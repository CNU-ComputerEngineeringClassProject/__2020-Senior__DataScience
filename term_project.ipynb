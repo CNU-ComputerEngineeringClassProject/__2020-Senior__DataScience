{
 "cells": [
  {
   "cell_type": "code",
   "execution_count": 1,
   "metadata": {},
   "outputs": [],
   "source": [
    "from os.path import join\n",
    "import numpy as np\n",
    "import pandas as pd\n",
    "import matplotlib.pyplot as plt"
   ]
  },
  {
   "cell_type": "code",
   "execution_count": 150,
   "metadata": {
    "scrolled": true
   },
   "outputs": [
    {
     "name": "stderr",
     "output_type": "stream",
     "text": [
      "C:\\Users\\Una\\anaconda3\\lib\\site-packages\\IPython\\core\\interactiveshell.py:3063: DtypeWarning: Columns (122,129,136,165,182,195) have mixed types.Specify dtype option on import or set low_memory=False.\n",
      "  interactivity=interactivity, compiler=compiler, result=result)\n"
     ]
    },
    {
     "data": {
      "text/html": [
       "<div>\n",
       "<style scoped>\n",
       "    .dataframe tbody tr th:only-of-type {\n",
       "        vertical-align: middle;\n",
       "    }\n",
       "\n",
       "    .dataframe tbody tr th {\n",
       "        vertical-align: top;\n",
       "    }\n",
       "\n",
       "    .dataframe thead th {\n",
       "        text-align: right;\n",
       "    }\n",
       "</style>\n",
       "<table border=\"1\" class=\"dataframe\">\n",
       "  <thead>\n",
       "    <tr style=\"text-align: right;\">\n",
       "      <th></th>\n",
       "      <th>연번</th>\n",
       "      <th>조사서번호</th>\n",
       "      <th>사망</th>\n",
       "      <th>부상</th>\n",
       "      <th>인명피해(명)소계</th>\n",
       "      <th>재산피해소계</th>\n",
       "      <th>시도본부</th>\n",
       "      <th>소방서</th>\n",
       "      <th>119안전센터</th>\n",
       "      <th>119지역대</th>\n",
       "      <th>...</th>\n",
       "      <th>지번동</th>\n",
       "      <th>지번리</th>\n",
       "      <th>출동소요시</th>\n",
       "      <th>출동소요분</th>\n",
       "      <th>출동소요초</th>\n",
       "      <th>그을음면적</th>\n",
       "      <th>차량발화지점</th>\n",
       "      <th>위험물_가스제조소등_완공일</th>\n",
       "      <th>위험물_가스제조소등_발화지점</th>\n",
       "      <th>선박항공기구분</th>\n",
       "    </tr>\n",
       "  </thead>\n",
       "  <tbody>\n",
       "    <tr>\n",
       "      <th>0</th>\n",
       "      <td>1</td>\n",
       "      <td>'170101044118025</td>\n",
       "      <td>0</td>\n",
       "      <td>0</td>\n",
       "      <td>0</td>\n",
       "      <td>13391</td>\n",
       "      <td>서울소방재난본부</td>\n",
       "      <td>강남소방서</td>\n",
       "      <td>영동119안전센터</td>\n",
       "      <td>NaN</td>\n",
       "      <td>...</td>\n",
       "      <td>논현1동</td>\n",
       "      <td>NaN</td>\n",
       "      <td>0</td>\n",
       "      <td>6</td>\n",
       "      <td>29</td>\n",
       "      <td>40.0</td>\n",
       "      <td>NaN</td>\n",
       "      <td>NaN</td>\n",
       "      <td>NaN</td>\n",
       "      <td>NaN</td>\n",
       "    </tr>\n",
       "    <tr>\n",
       "      <th>1</th>\n",
       "      <td>2</td>\n",
       "      <td>'170101010314566</td>\n",
       "      <td>0</td>\n",
       "      <td>0</td>\n",
       "      <td>0</td>\n",
       "      <td>195</td>\n",
       "      <td>경북소방본부</td>\n",
       "      <td>문경소방서</td>\n",
       "      <td>점촌119안전센터</td>\n",
       "      <td>NaN</td>\n",
       "      <td>...</td>\n",
       "      <td>점촌3동</td>\n",
       "      <td>NaN</td>\n",
       "      <td>0</td>\n",
       "      <td>9</td>\n",
       "      <td>14</td>\n",
       "      <td>80.0</td>\n",
       "      <td>NaN</td>\n",
       "      <td>NaN</td>\n",
       "      <td>NaN</td>\n",
       "      <td>NaN</td>\n",
       "    </tr>\n",
       "  </tbody>\n",
       "</table>\n",
       "<p>2 rows × 198 columns</p>\n",
       "</div>"
      ],
      "text/plain": [
       "   연번             조사서번호  사망  부상  인명피해(명)소계  재산피해소계      시도본부    소방서  \\\n",
       "0   1  '170101044118025   0   0          0   13391  서울소방재난본부  강남소방서   \n",
       "1   2  '170101010314566   0   0          0     195    경북소방본부  문경소방서   \n",
       "\n",
       "     119안전센터 119지역대  ...   지번동  지번리  출동소요시  출동소요분  출동소요초  그을음면적 차량발화지점  \\\n",
       "0  영동119안전센터    NaN  ...  논현1동  NaN      0      6     29   40.0    NaN   \n",
       "1  점촌119안전센터    NaN  ...  점촌3동  NaN      0      9     14   80.0    NaN   \n",
       "\n",
       "  위험물_가스제조소등_완공일 위험물_가스제조소등_발화지점 선박항공기구분  \n",
       "0            NaN             NaN     NaN  \n",
       "1            NaN             NaN     NaN  \n",
       "\n",
       "[2 rows x 198 columns]"
      ]
     },
     "execution_count": 150,
     "metadata": {},
     "output_type": "execute_result"
    }
   ],
   "source": [
    "#Data Import\n",
    "real_data=pd.read_csv(join('data','national_fire_information_2017.csv'), encoding='CP949')\n",
    "real_data.head(2) #table로 보여주어 직관적이다."
   ]
  },
  {
   "cell_type": "markdown",
   "metadata": {},
   "source": [
    "## data preprocessing"
   ]
  },
  {
   "cell_type": "code",
   "execution_count": 151,
   "metadata": {
    "scrolled": true
   },
   "outputs": [
    {
     "data": {
      "text/html": [
       "<div>\n",
       "<style scoped>\n",
       "    .dataframe tbody tr th:only-of-type {\n",
       "        vertical-align: middle;\n",
       "    }\n",
       "\n",
       "    .dataframe tbody tr th {\n",
       "        vertical-align: top;\n",
       "    }\n",
       "\n",
       "    .dataframe thead th {\n",
       "        text-align: right;\n",
       "    }\n",
       "</style>\n",
       "<table border=\"1\" class=\"dataframe\">\n",
       "  <thead>\n",
       "    <tr style=\"text-align: right;\">\n",
       "      <th></th>\n",
       "      <th>재산피해소계</th>\n",
       "      <th>출동소요시간</th>\n",
       "      <th>화재진압시간</th>\n",
       "      <th>소실면적(㎡)</th>\n",
       "      <th>그을음면적</th>\n",
       "      <th>온도(℃)</th>\n",
       "      <th>습도</th>\n",
       "      <th>풍향</th>\n",
       "    </tr>\n",
       "  </thead>\n",
       "  <tbody>\n",
       "    <tr>\n",
       "      <th>0</th>\n",
       "      <td>13391</td>\n",
       "      <td>0:06:29</td>\n",
       "      <td>0:15:00</td>\n",
       "      <td>10.0</td>\n",
       "      <td>40.0</td>\n",
       "      <td>0.0</td>\n",
       "      <td>0.0</td>\n",
       "      <td>NONE</td>\n",
       "    </tr>\n",
       "    <tr>\n",
       "      <th>1</th>\n",
       "      <td>195</td>\n",
       "      <td>0:09:14</td>\n",
       "      <td>0:04:03</td>\n",
       "      <td>0.0</td>\n",
       "      <td>80.0</td>\n",
       "      <td>0.0</td>\n",
       "      <td>0.0</td>\n",
       "      <td>NONE</td>\n",
       "    </tr>\n",
       "    <tr>\n",
       "      <th>2</th>\n",
       "      <td>22</td>\n",
       "      <td>0:09:26</td>\n",
       "      <td>0:49:05</td>\n",
       "      <td>NaN</td>\n",
       "      <td>NaN</td>\n",
       "      <td>3.0</td>\n",
       "      <td>79.0</td>\n",
       "      <td>0~4 m/s</td>\n",
       "    </tr>\n",
       "    <tr>\n",
       "      <th>3</th>\n",
       "      <td>1</td>\n",
       "      <td>0:06:50</td>\n",
       "      <td>0:00:02</td>\n",
       "      <td>0.0</td>\n",
       "      <td>0.0</td>\n",
       "      <td>-1.4</td>\n",
       "      <td>99.0</td>\n",
       "      <td>0~4 m/s</td>\n",
       "    </tr>\n",
       "    <tr>\n",
       "      <th>4</th>\n",
       "      <td>966</td>\n",
       "      <td>0:01:55</td>\n",
       "      <td>0:00:00</td>\n",
       "      <td>7.0</td>\n",
       "      <td>43.0</td>\n",
       "      <td>0.6</td>\n",
       "      <td>99.0</td>\n",
       "      <td>0~4 m/s</td>\n",
       "    </tr>\n",
       "  </tbody>\n",
       "</table>\n",
       "</div>"
      ],
      "text/plain": [
       "   재산피해소계   출동소요시간   화재진압시간  소실면적(㎡)  그을음면적  온도(℃)    습도       풍향\n",
       "0   13391  0:06:29  0:15:00     10.0   40.0    0.0   0.0     NONE\n",
       "1     195  0:09:14  0:04:03      0.0   80.0    0.0   0.0     NONE\n",
       "2      22  0:09:26  0:49:05      NaN    NaN    3.0  79.0  0~4 m/s\n",
       "3       1  0:06:50  0:00:02      0.0    0.0   -1.4  99.0  0~4 m/s\n",
       "4     966  0:01:55  0:00:00      7.0   43.0    0.6  99.0  0~4 m/s"
      ]
     },
     "execution_count": 151,
     "metadata": {},
     "output_type": "execute_result"
    }
   ],
   "source": [
    "#dp = real_data[['재산피해소계','출동소요시간', '화재진압시간', '소방서거리(㎞)', '소실면적(㎡)','온도(℃)','습도','풍향','그을음면적']]\n",
    "dp = real_data[['재산피해소계','출동소요시간', '화재진압시간', '소실면적(㎡)','그을음면적','온도(℃)','습도','풍향']]\n",
    "dp.head(5)"
   ]
  },
  {
   "cell_type": "code",
   "execution_count": 152,
   "metadata": {},
   "outputs": [
    {
     "data": {
      "text/plain": [
       "0        3919\n",
       "110       560\n",
       "11        502\n",
       "55        483\n",
       "50        323\n",
       "         ... \n",
       "98077       1\n",
       "38688       1\n",
       "7985        1\n",
       "3891        1\n",
       "2047        1\n",
       "Name: 재산피해소계, Length: 10765, dtype: int64"
      ]
     },
     "execution_count": 152,
     "metadata": {},
     "output_type": "execute_result"
    }
   ],
   "source": [
    "dp['재산피해소계'].value_counts()"
   ]
  },
  {
   "cell_type": "code",
   "execution_count": 168,
   "metadata": {
    "scrolled": true
   },
   "outputs": [
    {
     "name": "stdout",
     "output_type": "stream",
     "text": [
      "44110\n",
      "47\n",
      "10\n",
      "4\n",
      "3\n",
      "0\n",
      "2\n",
      "0\n",
      "2\n"
     ]
    }
   ],
   "source": [
    "a = dp.loc[dp['재산피해소계']<= 1000000, '재산피해소계']\n",
    "print(a.shape[0])\n",
    "\n",
    "b = dp.loc[(dp['재산피해소계']> 1000000) & (dp['재산피해소계']<= 2000000), '재산피해소계']\n",
    "print(b.shape[0])\n",
    "\n",
    "c = dp.loc[(dp['재산피해소계']> 2000000) & (dp['재산피해소계']<= 3000000), '재산피해소계']\n",
    "print(c.shape[0])\n",
    "\n",
    "d = dp.loc[(dp['재산피해소계']> 3000000) & (dp['재산피해소계']<= 4000000), '재산피해소계']\n",
    "print(d.shape[0])\n",
    "\n",
    "e = dp.loc[(dp['재산피해소계']> 4000000) & (dp['재산피해소계']<= 5000000), '재산피해소계']\n",
    "print(e.shape[0])\n",
    "\n",
    "f = dp.loc[(dp['재산피해소계']> 5000000) & (dp['재산피해소계']<= 6000000), '재산피해소계']\n",
    "print(f.shape[0])\n",
    "\n",
    "g = dp.loc[(dp['재산피해소계']> 6000000) & (dp['재산피해소계']<= 7000000), '재산피해소계']\n",
    "print(g.shape[0])\n",
    "\n",
    "h = dp.loc[(dp['재산피해소계']> 7000000) & (dp['재산피해소계']<= 8000000), '재산피해소계']\n",
    "print(h.shape[0])\n",
    "\n",
    "i = dp.loc[(dp['재산피해소계']> 8000000), '재산피해소계']\n",
    "print(i.shape[0])"
   ]
  },
  {
   "cell_type": "code",
   "execution_count": 116,
   "metadata": {},
   "outputs": [
    {
     "data": {
      "text/plain": [
       "11600          0\n",
       "11121          0\n",
       "33509          0\n",
       "11126          0\n",
       "23925          0\n",
       "          ...   \n",
       "15772    4501168\n",
       "32184    6070382\n",
       "18080    6693391\n",
       "11654    8285507\n",
       "4479     8323780\n",
       "Name: 재산피해소계, Length: 44178, dtype: int64"
      ]
     },
     "execution_count": 116,
     "metadata": {},
     "output_type": "execute_result"
    }
   ],
   "source": [
    "dp['재산피해소계'].sort_values()"
   ]
  },
  {
   "cell_type": "code",
   "execution_count": 117,
   "metadata": {
    "scrolled": true
   },
   "outputs": [
    {
     "name": "stdout",
     "output_type": "stream",
     "text": [
      "재산피해소계         0\n",
      "출동소요시간         0\n",
      "화재진압시간         0\n",
      "소실면적(㎡)    13492\n",
      "그을음면적      15802\n",
      "온도(℃)          1\n",
      "습도             0\n",
      "풍향             0\n",
      "dtype: int64\n"
     ]
    }
   ],
   "source": [
    "print(dp.isnull().sum())"
   ]
  },
  {
   "cell_type": "code",
   "execution_count": 171,
   "metadata": {},
   "outputs": [
    {
     "data": {
      "text/html": [
       "<div>\n",
       "<style scoped>\n",
       "    .dataframe tbody tr th:only-of-type {\n",
       "        vertical-align: middle;\n",
       "    }\n",
       "\n",
       "    .dataframe tbody tr th {\n",
       "        vertical-align: top;\n",
       "    }\n",
       "\n",
       "    .dataframe thead th {\n",
       "        text-align: right;\n",
       "    }\n",
       "</style>\n",
       "<table border=\"1\" class=\"dataframe\">\n",
       "  <thead>\n",
       "    <tr style=\"text-align: right;\">\n",
       "      <th></th>\n",
       "      <th>재산피해소계</th>\n",
       "      <th>출동소요시간</th>\n",
       "      <th>화재진압시간</th>\n",
       "      <th>소실면적(㎡)</th>\n",
       "      <th>그을음면적</th>\n",
       "      <th>온도(℃)</th>\n",
       "      <th>습도</th>\n",
       "      <th>풍향</th>\n",
       "    </tr>\n",
       "  </thead>\n",
       "  <tbody>\n",
       "    <tr>\n",
       "      <th>0</th>\n",
       "      <td>13391</td>\n",
       "      <td>0:06:29</td>\n",
       "      <td>0:15:00</td>\n",
       "      <td>10.0</td>\n",
       "      <td>40.0</td>\n",
       "      <td>0.0</td>\n",
       "      <td>0.0</td>\n",
       "      <td>NONE</td>\n",
       "    </tr>\n",
       "    <tr>\n",
       "      <th>1</th>\n",
       "      <td>195</td>\n",
       "      <td>0:09:14</td>\n",
       "      <td>0:04:03</td>\n",
       "      <td>0.0</td>\n",
       "      <td>80.0</td>\n",
       "      <td>0.0</td>\n",
       "      <td>0.0</td>\n",
       "      <td>NONE</td>\n",
       "    </tr>\n",
       "    <tr>\n",
       "      <th>2</th>\n",
       "      <td>22</td>\n",
       "      <td>0:09:26</td>\n",
       "      <td>0:49:05</td>\n",
       "      <td>NaN</td>\n",
       "      <td>NaN</td>\n",
       "      <td>3.0</td>\n",
       "      <td>79.0</td>\n",
       "      <td>0~4 m/s</td>\n",
       "    </tr>\n",
       "    <tr>\n",
       "      <th>3</th>\n",
       "      <td>1</td>\n",
       "      <td>0:06:50</td>\n",
       "      <td>0:00:02</td>\n",
       "      <td>0.0</td>\n",
       "      <td>0.0</td>\n",
       "      <td>-1.4</td>\n",
       "      <td>99.0</td>\n",
       "      <td>0~4 m/s</td>\n",
       "    </tr>\n",
       "    <tr>\n",
       "      <th>4</th>\n",
       "      <td>966</td>\n",
       "      <td>0:01:55</td>\n",
       "      <td>0:00:00</td>\n",
       "      <td>7.0</td>\n",
       "      <td>43.0</td>\n",
       "      <td>0.6</td>\n",
       "      <td>99.0</td>\n",
       "      <td>0~4 m/s</td>\n",
       "    </tr>\n",
       "  </tbody>\n",
       "</table>\n",
       "</div>"
      ],
      "text/plain": [
       "   재산피해소계   출동소요시간   화재진압시간  소실면적(㎡)  그을음면적  온도(℃)    습도       풍향\n",
       "0   13391  0:06:29  0:15:00     10.0   40.0    0.0   0.0     NONE\n",
       "1     195  0:09:14  0:04:03      0.0   80.0    0.0   0.0     NONE\n",
       "2      22  0:09:26  0:49:05      NaN    NaN    3.0  79.0  0~4 m/s\n",
       "3       1  0:06:50  0:00:02      0.0    0.0   -1.4  99.0  0~4 m/s\n",
       "4     966  0:01:55  0:00:00      7.0   43.0    0.6  99.0  0~4 m/s"
      ]
     },
     "execution_count": 171,
     "metadata": {},
     "output_type": "execute_result"
    }
   ],
   "source": [
    "dp1 = dp.loc[(dp['재산피해소계']<= 3000000)]\n",
    "dp1.head(5)"
   ]
  },
  {
   "cell_type": "code",
   "execution_count": 172,
   "metadata": {},
   "outputs": [
    {
     "name": "stdout",
     "output_type": "stream",
     "text": [
      "재산피해소계         0\n",
      "출동소요시간         0\n",
      "화재진압시간         0\n",
      "소실면적(㎡)    13492\n",
      "그을음면적      15801\n",
      "온도(℃)          1\n",
      "습도             0\n",
      "풍향             0\n",
      "dtype: int64\n"
     ]
    }
   ],
   "source": [
    "print(dp1.isnull().sum())"
   ]
  },
  {
   "cell_type": "code",
   "execution_count": 173,
   "metadata": {},
   "outputs": [],
   "source": [
    "#온도 NAN값\n",
    "dp1 = dp1.dropna(subset=['온도(℃)'])\n",
    "\n",
    "dp1['습도(%)'] = pd.to_numeric(dp1['습도'])/100\n",
    "del dp1['습도']"
   ]
  },
  {
   "cell_type": "code",
   "execution_count": 174,
   "metadata": {},
   "outputs": [],
   "source": [
    "#소실면적 NAN값\n",
    "#dp.dropna(subset=['소실면적(㎡)'])\n",
    "#그을음면적 NAN값\n",
    "#dp1=dp1.fillna(0)\n",
    "#dp1.head(5)"
   ]
  },
  {
   "cell_type": "code",
   "execution_count": 175,
   "metadata": {},
   "outputs": [
    {
     "data": {
      "text/html": [
       "<div>\n",
       "<style scoped>\n",
       "    .dataframe tbody tr th:only-of-type {\n",
       "        vertical-align: middle;\n",
       "    }\n",
       "\n",
       "    .dataframe tbody tr th {\n",
       "        vertical-align: top;\n",
       "    }\n",
       "\n",
       "    .dataframe thead th {\n",
       "        text-align: right;\n",
       "    }\n",
       "</style>\n",
       "<table border=\"1\" class=\"dataframe\">\n",
       "  <thead>\n",
       "    <tr style=\"text-align: right;\">\n",
       "      <th></th>\n",
       "      <th>재산피해소계</th>\n",
       "      <th>출동소요시간</th>\n",
       "      <th>화재진압시간</th>\n",
       "      <th>소실면적(㎡)</th>\n",
       "      <th>그을음면적</th>\n",
       "      <th>온도(℃)</th>\n",
       "      <th>풍향</th>\n",
       "      <th>습도(%)</th>\n",
       "    </tr>\n",
       "  </thead>\n",
       "  <tbody>\n",
       "    <tr>\n",
       "      <th>0</th>\n",
       "      <td>13391</td>\n",
       "      <td>0:06:29</td>\n",
       "      <td>0:15:00</td>\n",
       "      <td>10.0</td>\n",
       "      <td>40.0</td>\n",
       "      <td>0.0</td>\n",
       "      <td>NONE</td>\n",
       "      <td>0.00</td>\n",
       "    </tr>\n",
       "    <tr>\n",
       "      <th>1</th>\n",
       "      <td>195</td>\n",
       "      <td>0:09:14</td>\n",
       "      <td>0:04:03</td>\n",
       "      <td>0.0</td>\n",
       "      <td>80.0</td>\n",
       "      <td>0.0</td>\n",
       "      <td>NONE</td>\n",
       "      <td>0.00</td>\n",
       "    </tr>\n",
       "    <tr>\n",
       "      <th>4</th>\n",
       "      <td>966</td>\n",
       "      <td>0:01:55</td>\n",
       "      <td>0:00:00</td>\n",
       "      <td>7.0</td>\n",
       "      <td>43.0</td>\n",
       "      <td>0.6</td>\n",
       "      <td>0~4 m/s</td>\n",
       "      <td>0.99</td>\n",
       "    </tr>\n",
       "    <tr>\n",
       "      <th>5</th>\n",
       "      <td>3638</td>\n",
       "      <td>0:08:39</td>\n",
       "      <td>0:02:41</td>\n",
       "      <td>3.3</td>\n",
       "      <td>0.0</td>\n",
       "      <td>-0.7</td>\n",
       "      <td>0~4 m/s</td>\n",
       "      <td>0.35</td>\n",
       "    </tr>\n",
       "    <tr>\n",
       "      <th>8</th>\n",
       "      <td>19</td>\n",
       "      <td>0:05:35</td>\n",
       "      <td>0:00:00</td>\n",
       "      <td>0.0</td>\n",
       "      <td>0.2</td>\n",
       "      <td>-2.0</td>\n",
       "      <td>NONE</td>\n",
       "      <td>0.00</td>\n",
       "    </tr>\n",
       "  </tbody>\n",
       "</table>\n",
       "</div>"
      ],
      "text/plain": [
       "   재산피해소계   출동소요시간   화재진압시간  소실면적(㎡)  그을음면적  온도(℃)       풍향  습도(%)\n",
       "0   13391  0:06:29  0:15:00     10.0   40.0    0.0     NONE   0.00\n",
       "1     195  0:09:14  0:04:03      0.0   80.0    0.0     NONE   0.00\n",
       "4     966  0:01:55  0:00:00      7.0   43.0    0.6  0~4 m/s   0.99\n",
       "5    3638  0:08:39  0:02:41      3.3    0.0   -0.7  0~4 m/s   0.35\n",
       "8      19  0:05:35  0:00:00      0.0    0.2   -2.0     NONE   0.00"
      ]
     },
     "execution_count": 175,
     "metadata": {},
     "output_type": "execute_result"
    }
   ],
   "source": [
    "dp1 = dp1.dropna(subset=['소실면적(㎡)'])\n",
    "dp1 = dp1.dropna(subset=['그을음면적'])\n",
    "dp1 = dp1.drop(dp1[(dp1['소실면적(㎡)'] == 0.0)&(dp1['그을음면적'] == 0.0)].index)\n",
    "dp1.head(5)"
   ]
  },
  {
   "cell_type": "code",
   "execution_count": 176,
   "metadata": {
    "scrolled": true
   },
   "outputs": [
    {
     "name": "stdout",
     "output_type": "stream",
     "text": [
      "재산피해소계     0\n",
      "출동소요시간     0\n",
      "화재진압시간     0\n",
      "소실면적(㎡)    0\n",
      "그을음면적      0\n",
      "온도(℃)      0\n",
      "풍향         0\n",
      "습도(%)      0\n",
      "dtype: int64\n"
     ]
    }
   ],
   "source": [
    "print(dp1.isnull().sum())"
   ]
  },
  {
   "cell_type": "code",
   "execution_count": 177,
   "metadata": {},
   "outputs": [
    {
     "data": {
      "text/html": [
       "<div>\n",
       "<style scoped>\n",
       "    .dataframe tbody tr th:only-of-type {\n",
       "        vertical-align: middle;\n",
       "    }\n",
       "\n",
       "    .dataframe tbody tr th {\n",
       "        vertical-align: top;\n",
       "    }\n",
       "\n",
       "    .dataframe thead th {\n",
       "        text-align: right;\n",
       "    }\n",
       "</style>\n",
       "<table border=\"1\" class=\"dataframe\">\n",
       "  <thead>\n",
       "    <tr style=\"text-align: right;\">\n",
       "      <th></th>\n",
       "      <th>재산피해소계</th>\n",
       "      <th>출동소요시간</th>\n",
       "      <th>화재진압시간</th>\n",
       "      <th>소실면적(㎡)</th>\n",
       "      <th>그을음면적</th>\n",
       "      <th>온도(℃)</th>\n",
       "      <th>풍향</th>\n",
       "      <th>습도(%)</th>\n",
       "      <th>h</th>\n",
       "      <th>m</th>\n",
       "      <th>s</th>\n",
       "    </tr>\n",
       "  </thead>\n",
       "  <tbody>\n",
       "    <tr>\n",
       "      <th>0</th>\n",
       "      <td>13391</td>\n",
       "      <td>389</td>\n",
       "      <td>0:15:00</td>\n",
       "      <td>10.0</td>\n",
       "      <td>40.0</td>\n",
       "      <td>0.0</td>\n",
       "      <td>NONE</td>\n",
       "      <td>0.00</td>\n",
       "      <td>0</td>\n",
       "      <td>06</td>\n",
       "      <td>29</td>\n",
       "    </tr>\n",
       "    <tr>\n",
       "      <th>1</th>\n",
       "      <td>195</td>\n",
       "      <td>554</td>\n",
       "      <td>0:04:03</td>\n",
       "      <td>0.0</td>\n",
       "      <td>80.0</td>\n",
       "      <td>0.0</td>\n",
       "      <td>NONE</td>\n",
       "      <td>0.00</td>\n",
       "      <td>0</td>\n",
       "      <td>09</td>\n",
       "      <td>14</td>\n",
       "    </tr>\n",
       "    <tr>\n",
       "      <th>4</th>\n",
       "      <td>966</td>\n",
       "      <td>115</td>\n",
       "      <td>0:00:00</td>\n",
       "      <td>7.0</td>\n",
       "      <td>43.0</td>\n",
       "      <td>0.6</td>\n",
       "      <td>0~4 m/s</td>\n",
       "      <td>0.99</td>\n",
       "      <td>0</td>\n",
       "      <td>01</td>\n",
       "      <td>55</td>\n",
       "    </tr>\n",
       "  </tbody>\n",
       "</table>\n",
       "</div>"
      ],
      "text/plain": [
       "   재산피해소계  출동소요시간   화재진압시간  소실면적(㎡)  그을음면적  온도(℃)       풍향  습도(%)  h   m   s\n",
       "0   13391     389  0:15:00     10.0   40.0    0.0     NONE   0.00  0  06  29\n",
       "1     195     554  0:04:03      0.0   80.0    0.0     NONE   0.00  0  09  14\n",
       "4     966     115  0:00:00      7.0   43.0    0.6  0~4 m/s   0.99  0  01  55"
      ]
     },
     "execution_count": 177,
     "metadata": {},
     "output_type": "execute_result"
    }
   ],
   "source": [
    "#출동소요시간 초단위로 변환\n",
    "dp1[['h', 'm', 's']] = dp1['출동소요시간'].str.split(\":\", expand=True)\n",
    "dp1['출동소요시간']= pd.to_numeric(dp1['h']) *360 + pd.to_numeric(dp1['m']) *60 + pd.to_numeric(dp1['s'])\n",
    "dp1.head(3)"
   ]
  },
  {
   "cell_type": "code",
   "execution_count": 178,
   "metadata": {},
   "outputs": [
    {
     "data": {
      "text/html": [
       "<div>\n",
       "<style scoped>\n",
       "    .dataframe tbody tr th:only-of-type {\n",
       "        vertical-align: middle;\n",
       "    }\n",
       "\n",
       "    .dataframe tbody tr th {\n",
       "        vertical-align: top;\n",
       "    }\n",
       "\n",
       "    .dataframe thead th {\n",
       "        text-align: right;\n",
       "    }\n",
       "</style>\n",
       "<table border=\"1\" class=\"dataframe\">\n",
       "  <thead>\n",
       "    <tr style=\"text-align: right;\">\n",
       "      <th></th>\n",
       "      <th>재산피해소계</th>\n",
       "      <th>출동소요시간</th>\n",
       "      <th>화재진압시간</th>\n",
       "      <th>소실면적(㎡)</th>\n",
       "      <th>그을음면적</th>\n",
       "      <th>온도(℃)</th>\n",
       "      <th>풍향</th>\n",
       "      <th>습도(%)</th>\n",
       "    </tr>\n",
       "  </thead>\n",
       "  <tbody>\n",
       "    <tr>\n",
       "      <th>0</th>\n",
       "      <td>13391</td>\n",
       "      <td>389</td>\n",
       "      <td>900</td>\n",
       "      <td>10.0</td>\n",
       "      <td>40.0</td>\n",
       "      <td>0.0</td>\n",
       "      <td>NONE</td>\n",
       "      <td>0.00</td>\n",
       "    </tr>\n",
       "    <tr>\n",
       "      <th>1</th>\n",
       "      <td>195</td>\n",
       "      <td>554</td>\n",
       "      <td>243</td>\n",
       "      <td>0.0</td>\n",
       "      <td>80.0</td>\n",
       "      <td>0.0</td>\n",
       "      <td>NONE</td>\n",
       "      <td>0.00</td>\n",
       "    </tr>\n",
       "    <tr>\n",
       "      <th>4</th>\n",
       "      <td>966</td>\n",
       "      <td>115</td>\n",
       "      <td>0</td>\n",
       "      <td>7.0</td>\n",
       "      <td>43.0</td>\n",
       "      <td>0.6</td>\n",
       "      <td>0~4 m/s</td>\n",
       "      <td>0.99</td>\n",
       "    </tr>\n",
       "  </tbody>\n",
       "</table>\n",
       "</div>"
      ],
      "text/plain": [
       "   재산피해소계  출동소요시간  화재진압시간  소실면적(㎡)  그을음면적  온도(℃)       풍향  습도(%)\n",
       "0   13391     389     900     10.0   40.0    0.0     NONE   0.00\n",
       "1     195     554     243      0.0   80.0    0.0     NONE   0.00\n",
       "4     966     115       0      7.0   43.0    0.6  0~4 m/s   0.99"
      ]
     },
     "execution_count": 178,
     "metadata": {},
     "output_type": "execute_result"
    }
   ],
   "source": [
    "#화재진압시간 초단위로 변환\n",
    "dp1[['h', 'm', 's']] = dp1['화재진압시간'].str.split(\":\", expand=True)\n",
    "dp1['화재진압시간']= pd.to_numeric(dp1['h']) *360 + pd.to_numeric(dp1['m']) *60 + pd.to_numeric(dp1['s'])\n",
    "\n",
    "del dp1['h']\n",
    "del dp1['m']\n",
    "del dp1['s']\n",
    "\n",
    "dp1.head(3)"
   ]
  },
  {
   "cell_type": "code",
   "execution_count": 179,
   "metadata": {
    "scrolled": true
   },
   "outputs": [
    {
     "data": {
      "text/html": [
       "<div>\n",
       "<style scoped>\n",
       "    .dataframe tbody tr th:only-of-type {\n",
       "        vertical-align: middle;\n",
       "    }\n",
       "\n",
       "    .dataframe tbody tr th {\n",
       "        vertical-align: top;\n",
       "    }\n",
       "\n",
       "    .dataframe thead th {\n",
       "        text-align: right;\n",
       "    }\n",
       "</style>\n",
       "<table border=\"1\" class=\"dataframe\">\n",
       "  <thead>\n",
       "    <tr style=\"text-align: right;\">\n",
       "      <th></th>\n",
       "      <th>재산피해소계</th>\n",
       "      <th>출동소요시간</th>\n",
       "      <th>화재진압시간</th>\n",
       "      <th>소실면적(㎡)</th>\n",
       "      <th>그을음면적</th>\n",
       "      <th>온도(℃)</th>\n",
       "      <th>풍향</th>\n",
       "      <th>습도(%)</th>\n",
       "    </tr>\n",
       "  </thead>\n",
       "  <tbody>\n",
       "    <tr>\n",
       "      <th>4</th>\n",
       "      <td>966</td>\n",
       "      <td>115</td>\n",
       "      <td>0</td>\n",
       "      <td>7.0</td>\n",
       "      <td>43.0</td>\n",
       "      <td>0.6</td>\n",
       "      <td>1</td>\n",
       "      <td>0.99</td>\n",
       "    </tr>\n",
       "    <tr>\n",
       "      <th>5</th>\n",
       "      <td>3638</td>\n",
       "      <td>519</td>\n",
       "      <td>161</td>\n",
       "      <td>3.3</td>\n",
       "      <td>0.0</td>\n",
       "      <td>-0.7</td>\n",
       "      <td>1</td>\n",
       "      <td>0.35</td>\n",
       "    </tr>\n",
       "    <tr>\n",
       "      <th>11</th>\n",
       "      <td>4281</td>\n",
       "      <td>913</td>\n",
       "      <td>2416</td>\n",
       "      <td>900.0</td>\n",
       "      <td>0.0</td>\n",
       "      <td>6.0</td>\n",
       "      <td>1</td>\n",
       "      <td>0.70</td>\n",
       "    </tr>\n",
       "    <tr>\n",
       "      <th>15</th>\n",
       "      <td>32750</td>\n",
       "      <td>277</td>\n",
       "      <td>1258</td>\n",
       "      <td>0.0</td>\n",
       "      <td>200.0</td>\n",
       "      <td>-3.0</td>\n",
       "      <td>1</td>\n",
       "      <td>0.94</td>\n",
       "    </tr>\n",
       "    <tr>\n",
       "      <th>19</th>\n",
       "      <td>971</td>\n",
       "      <td>300</td>\n",
       "      <td>478</td>\n",
       "      <td>1.0</td>\n",
       "      <td>2.0</td>\n",
       "      <td>0.0</td>\n",
       "      <td>1</td>\n",
       "      <td>0.85</td>\n",
       "    </tr>\n",
       "  </tbody>\n",
       "</table>\n",
       "</div>"
      ],
      "text/plain": [
       "    재산피해소계  출동소요시간  화재진압시간  소실면적(㎡)  그을음면적  온도(℃) 풍향  습도(%)\n",
       "4      966     115       0      7.0   43.0    0.6  1   0.99\n",
       "5     3638     519     161      3.3    0.0   -0.7  1   0.35\n",
       "11    4281     913    2416    900.0    0.0    6.0  1   0.70\n",
       "15   32750     277    1258      0.0  200.0   -3.0  1   0.94\n",
       "19     971     300     478      1.0    2.0    0.0  1   0.85"
      ]
     },
     "execution_count": 179,
     "metadata": {},
     "output_type": "execute_result"
    }
   ],
   "source": [
    "#풍향 NONE, 0~4 m/s, 5~8 m/s, 9~12 m/s, 13~17 m/s, 18 m/s 이상 label로 구분\n",
    "#연소속도,,,\n",
    "#dp1.loc[dp1['풍향'] == 'NONE', '풍향'] = 0\n",
    "\n",
    "dp1 = dp1.drop(dp1[(dp1['풍향'] == 'NONE')].index)\n",
    "\n",
    "dp1.loc[dp1['풍향'] == '0~4 m/s', '풍향'] = 1\n",
    "dp1.loc[dp1['풍향'] == '5~8 m/s', '풍향'] = 2\n",
    "dp1.loc[dp1['풍향'] == '9~12 m/s', '풍향'] = 4\n",
    "dp1.loc[dp1['풍향'] == '13~17 m/s', '풍향'] = 8\n",
    "dp1.loc[dp1['풍향'] == '18 m/s 이상', '풍향'] = 16\n",
    "\n",
    "dp1.head()"
   ]
  },
  {
   "cell_type": "code",
   "execution_count": 180,
   "metadata": {},
   "outputs": [
    {
     "name": "stdout",
     "output_type": "stream",
     "text": [
      "           재산피해소계    출동소요시간    화재진압시간   소실면적(㎡)     그을음면적     온도(℃)     습도(%)\n",
      "재산피해소계   1.000000  0.061607  0.249762  0.623908  0.122234 -0.026188  0.004434\n",
      "출동소요시간   0.061607  1.000000  0.166316  0.099691 -0.024699 -0.080705 -0.000513\n",
      "화재진압시간   0.249762  0.166316  1.000000  0.284098  0.092361 -0.086532  0.007156\n",
      "소실면적(㎡)  0.623908  0.099691  0.284098  1.000000  0.087980 -0.031601 -0.004288\n",
      "그을음면적    0.122234 -0.024699  0.092361  0.087980  1.000000 -0.000341  0.018658\n",
      "온도(℃)   -0.026188 -0.080705 -0.086532 -0.031601 -0.000341  1.000000  0.065815\n",
      "습도(%)    0.004434 -0.000513  0.007156 -0.004288  0.018658  0.065815  1.000000\n",
      "\n",
      "재산피해소계       int64\n",
      "출동소요시간       int64\n",
      "화재진압시간       int64\n",
      "소실면적(㎡)    float64\n",
      "그을음면적      float64\n",
      "온도(℃)      float64\n",
      "풍향          object\n",
      "습도(%)      float64\n",
      "dtype: object\n",
      "\n",
      "(17514, 8)\n"
     ]
    }
   ],
   "source": [
    "## Same functions to explore data\n",
    "print(dp1.corr())\n",
    "print()\n",
    "print(dp1.dtypes)\n",
    "print()\n",
    "print(dp1.shape)"
   ]
  },
  {
   "cell_type": "code",
   "execution_count": 181,
   "metadata": {},
   "outputs": [
    {
     "name": "stdout",
     "output_type": "stream",
     "text": [
      "17514 12260 5254\n",
      "[ 6750  2981 13635 ... 15749 10654  5545]\n",
      "12260 5254\n"
     ]
    }
   ],
   "source": [
    "## Train-Valiedation Split\n",
    "## Index control by yourself\n",
    "\n",
    "n_data = dp1.shape[0]\n",
    "p_trn = 0.7\n",
    "n_trn = round(n_data * p_trn)\n",
    "n_tst = n_data - n_trn\n",
    "print(n_data, n_trn, n_tst)\n",
    "\n",
    "idx_data = pd.Series(range(0,n_data))\n",
    "idx_data_perm = np.random.permutation(idx_data)\n",
    "print(idx_data_perm)\n",
    "\n",
    "idx_trn = idx_data_perm[0:n_trn]\n",
    "idx_tst = idx_data_perm[n_trn:n_data]\n",
    "print(len(idx_trn),len(idx_tst))\n",
    "\n",
    "# Train:Test = 7:3으로 맞춰주기위해 수동으로 작업을 해줌\n",
    "# 우선 Train Test의 개수를 계산한 후\n",
    "# Random Permutation을 통해\n",
    "# index를 계산해줌"
   ]
  },
  {
   "cell_type": "code",
   "execution_count": 182,
   "metadata": {},
   "outputs": [],
   "source": [
    "# 계산된 index에 맞춰 데이터 분할\n",
    "trnx = dp1.iloc[idx_trn,1:]\n",
    "trny = dp1.iloc[idx_trn,0]\n",
    "tstx = dp1.iloc[idx_tst,1:]\n",
    "tsty = dp1.iloc[idx_tst,0]"
   ]
  },
  {
   "cell_type": "markdown",
   "metadata": {},
   "source": [
    "## Linear Regression"
   ]
  },
  {
   "cell_type": "code",
   "execution_count": 183,
   "metadata": {},
   "outputs": [
    {
     "name": "stdout",
     "output_type": "stream",
     "text": [
      "[-1926.39137239 -4966.50568455 82427.85990039 ... 36469.34980779\n",
      " -3966.36011914 16459.45563457]\n"
     ]
    }
   ],
   "source": [
    "# Resgression Learning\n",
    "from sklearn.linear_model import LinearRegression\n",
    "model = LinearRegression()\n",
    "model.fit(X=trnx, y=trny)\n",
    "lr_pred = model.predict(X=tstx)\n",
    "print(lr_pred)"
   ]
  },
  {
   "cell_type": "code",
   "execution_count": 184,
   "metadata": {},
   "outputs": [
    {
     "data": {
      "text/plain": [
       "79999.54173758812"
      ]
     },
     "execution_count": 184,
     "metadata": {},
     "output_type": "execute_result"
    }
   ],
   "source": [
    "np.sqrt(np.mean((np.square(lr_pred - tsty))))"
   ]
  },
  {
   "cell_type": "code",
   "execution_count": 185,
   "metadata": {},
   "outputs": [
    {
     "name": "stdout",
     "output_type": "stream",
     "text": [
      "35493     2280.391372\n",
      "32745     5043.505685\n",
      "9141    -61021.859900\n",
      "39719    -5249.886658\n",
      "2927     -2839.786624\n",
      "             ...     \n",
      "8842    -28341.095299\n",
      "22516    89194.138340\n",
      "40699    13084.650192\n",
      "29171     4309.360119\n",
      "15026   -11377.455635\n",
      "Name: 재산피해소계, Length: 5254, dtype: float64\n"
     ]
    }
   ],
   "source": [
    "print(tsty - lr_pred)"
   ]
  },
  {
   "cell_type": "code",
   "execution_count": 186,
   "metadata": {},
   "outputs": [
    {
     "name": "stdout",
     "output_type": "stream",
     "text": [
      "[2.68145641e+13]\n"
     ]
    },
    {
     "data": {
      "image/png": "[encoded data removed]",
      "text/plain": [
       "<Figure size 432x288 with 1 Axes>"
      ]
     },
     "metadata": {
      "needs_background": "light"
     },
     "output_type": "display_data"
    }
   ],
   "source": [
    "# y vs. y_hat 그림을 통해 시각화 \n",
    "# Correlation 계산\n",
    "plt.scatter(x = tsty, y= lr_pred)\n",
    "plt.plot(tsty,lr_pred,'o')\n",
    "m,b = np.polyfit(tsty,lr_pred,1)\n",
    "plt.plot(tsty, m*tsty+b)\n",
    "print(np.correlate(tsty, lr_pred))"
   ]
  },
  {
   "cell_type": "code",
   "execution_count": 138,
   "metadata": {},
   "outputs": [
    {
     "name": "stdout",
     "output_type": "stream",
     "text": [
      "RMSE: 48700.71281760719\n",
      "MAE: 14346.553117549282\n",
      "R2: 0.4296223135938978\n"
     ]
    }
   ],
   "source": [
    "from sklearn import metrics\n",
    "print('RMSE:', np.sqrt(metrics.mean_squared_error(lr_pred,tsty)))\n",
    "print('MAE:',metrics.mean_absolute_error(tsty, lr_pred))\n",
    "print('R2:',metrics.r2_score(tsty, lr_pred))"
   ]
  },
  {
   "cell_type": "code",
   "execution_count": null,
   "metadata": {},
   "outputs": [],
   "source": []
  },
  {
   "cell_type": "code",
   "execution_count": 139,
   "metadata": {},
   "outputs": [
    {
     "name": "stdout",
     "output_type": "stream",
     "text": [
      "[5172.42343781 1764.50494253 -355.48015184 ... 4972.14965466 6536.43238666\n",
      " 2196.01564017]\n"
     ]
    }
   ],
   "source": [
    "from sklearn.linear_model import Lasso\n",
    "model_lasso = Lasso()\n",
    "model_lasso.fit(X=trnx, y=trny)\n",
    "lr_pred_lasso = model_lasso.predict(X=tstx)\n",
    "print(lr_pred_lasso)"
   ]
  },
  {
   "cell_type": "code",
   "execution_count": 140,
   "metadata": {},
   "outputs": [
    {
     "data": {
      "text/plain": [
       "48700.775363126275"
      ]
     },
     "execution_count": 140,
     "metadata": {},
     "output_type": "execute_result"
    }
   ],
   "source": [
    "np.sqrt(np.mean((np.square(lr_pred_lasso - tsty))))"
   ]
  },
  {
   "cell_type": "code",
   "execution_count": 141,
   "metadata": {},
   "outputs": [
    {
     "name": "stdout",
     "output_type": "stream",
     "text": [
      "37277    -5076.423438\n",
      "17126    -1488.504943\n",
      "34866      855.480152\n",
      "18077    39131.195174\n",
      "14470   -14882.915559\n",
      "             ...     \n",
      "3455      -417.260006\n",
      "20844      952.441805\n",
      "38571    -3304.149655\n",
      "14229    -6228.432387\n",
      "32631    -1211.015640\n",
      "Name: 재산피해소계, Length: 5239, dtype: float64\n"
     ]
    }
   ],
   "source": [
    "print(tsty - lr_pred_lasso)"
   ]
  },
  {
   "cell_type": "code",
   "execution_count": 142,
   "metadata": {},
   "outputs": [
    {
     "name": "stdout",
     "output_type": "stream",
     "text": [
      "[9.24916276e+12]\n"
     ]
    },
    {
     "data": {
      "image/png": "[encoded data removed]",
      "text/plain": [
       "<Figure size 432x288 with 1 Axes>"
      ]
     },
     "metadata": {
      "needs_background": "light"
     },
     "output_type": "display_data"
    }
   ],
   "source": [
    "# y vs. y_hat 그림을 통해 시각화 \n",
    "# Correlation 계산\n",
    "plt.scatter(x = tsty, y= lr_pred_lasso)\n",
    "plt.plot(tsty,lr_pred_lasso,'o')\n",
    "m,b = np.polyfit(tsty,lr_pred_lasso,1)\n",
    "plt.plot(tsty, m*tsty+b)\n",
    "print(np.correlate(tsty, lr_pred_lasso))"
   ]
  },
  {
   "cell_type": "code",
   "execution_count": 143,
   "metadata": {},
   "outputs": [
    {
     "name": "stdout",
     "output_type": "stream",
     "text": [
      "RMSE: 48700.775363126275\n",
      "MAE: 14346.315893428793\n",
      "R2: 0.42962084853972016\n"
     ]
    }
   ],
   "source": [
    "print('RMSE:', np.sqrt(metrics.mean_squared_error(lr_pred_lasso,tsty)))\n",
    "print('MAE:',metrics.mean_absolute_error(tsty, lr_pred_lasso))\n",
    "print('R2:',metrics.r2_score(tsty, lr_pred_lasso))"
   ]
  },
  {
   "cell_type": "code",
   "execution_count": null,
   "metadata": {},
   "outputs": [],
   "source": []
  },
  {
   "cell_type": "code",
   "execution_count": 144,
   "metadata": {},
   "outputs": [
    {
     "name": "stdout",
     "output_type": "stream",
     "text": [
      "[5172.54921929 1765.72993772 -339.84451768 ... 4971.29274755 6537.09359607\n",
      " 2194.16309735]\n"
     ]
    }
   ],
   "source": [
    "from sklearn.linear_model import Ridge\n",
    "model_ridge = Ridge()\n",
    "model_ridge.fit(X=trnx, y=trny)\n",
    "lr_pred_ridge = model_ridge.predict(X=tstx)\n",
    "print(lr_pred_ridge)"
   ]
  },
  {
   "cell_type": "code",
   "execution_count": 145,
   "metadata": {},
   "outputs": [
    {
     "data": {
      "text/plain": [
       "48700.70943444273"
      ]
     },
     "execution_count": 145,
     "metadata": {},
     "output_type": "execute_result"
    }
   ],
   "source": [
    "np.sqrt(np.mean((np.square(lr_pred_ridge - tsty))))"
   ]
  },
  {
   "cell_type": "code",
   "execution_count": 146,
   "metadata": {},
   "outputs": [
    {
     "name": "stdout",
     "output_type": "stream",
     "text": [
      "37277    -5076.549219\n",
      "17126    -1489.729938\n",
      "34866      839.844518\n",
      "18077    39132.358389\n",
      "14470   -14884.495962\n",
      "             ...     \n",
      "3455      -414.167409\n",
      "20844      954.810906\n",
      "38571    -3303.292748\n",
      "14229    -6229.093596\n",
      "32631    -1209.163097\n",
      "Name: 재산피해소계, Length: 5239, dtype: float64\n"
     ]
    }
   ],
   "source": [
    "print(tsty - lr_pred_ridge)"
   ]
  },
  {
   "cell_type": "code",
   "execution_count": 147,
   "metadata": {},
   "outputs": [
    {
     "name": "stdout",
     "output_type": "stream",
     "text": [
      "[9.2491814e+12]\n"
     ]
    },
    {
     "data": {
      "image/png": "[encoded data removed]",
      "text/plain": [
       "<Figure size 432x288 with 1 Axes>"
      ]
     },
     "metadata": {
      "needs_background": "light"
     },
     "output_type": "display_data"
    }
   ],
   "source": [
    "# y vs. y_hat 그림을 통해 시각화 \n",
    "# Correlation 계산\n",
    "plt.scatter(x = tsty, y= lr_pred_ridge)\n",
    "plt.plot(tsty,lr_pred_ridge,'o')\n",
    "m,b = np.polyfit(tsty,lr_pred_ridge,1)\n",
    "plt.plot(tsty, m*tsty+b)\n",
    "print(np.correlate(tsty, lr_pred_ridge))"
   ]
  },
  {
   "cell_type": "code",
   "execution_count": 148,
   "metadata": {},
   "outputs": [
    {
     "name": "stdout",
     "output_type": "stream",
     "text": [
      "RMSE: 48700.709434442724\n",
      "MAE: 14346.463031175886\n",
      "R2: 0.42962239284043613\n"
     ]
    }
   ],
   "source": [
    "print('RMSE:', np.sqrt(metrics.mean_squared_error(lr_pred_ridge,tsty)))\n",
    "print('MAE:',metrics.mean_absolute_error(tsty, lr_pred_ridge))\n",
    "print('R2:',metrics.r2_score(tsty, lr_pred_ridge))"
   ]
  },
  {
   "cell_type": "code",
   "execution_count": 149,
   "metadata": {},
   "outputs": [
    {
     "name": "stdout",
     "output_type": "stream",
     "text": [
      "[ 1.68705232e+00  9.94135272e+00  1.34464486e+02  4.44243722e+01\n",
      " -3.83755485e+00  8.62385741e+01  4.01105242e+03]\n",
      "[ 1.68714667e+00  9.94154300e+00  1.34464460e+02  4.44246876e+01\n",
      " -3.82335325e+00  7.00908129e+01  4.00069205e+03]\n",
      "[ 1.68704852e+00  9.94137710e+00  1.34464461e+02  4.44245079e+01\n",
      " -3.83128254e+00  8.59314586e+01  4.00785562e+03]\n"
     ]
    }
   ],
   "source": [
    "print(model.coef_)\n",
    "print(model_lasso.coef_)\n",
    "print(model_ridge.coef_)\n",
    "#회귀계수"
   ]
  },
  {
   "cell_type": "code",
   "execution_count": null,
   "metadata": {},
   "outputs": [],
   "source": []
  },
  {
   "cell_type": "code",
   "execution_count": null,
   "metadata": {},
   "outputs": [],
   "source": []
  }
 ],
 "metadata": {
  "kernelspec": {
   "display_name": "Python 3",
   "language": "python",
   "name": "python3"
  },
  "language_info": {
   "codemirror_mode": {
    "name": "ipython",
    "version": 3
   },
   "file_extension": ".py",
   "mimetype": "text/x-python",
   "name": "python",
   "nbconvert_exporter": "python",
   "pygments_lexer": "ipython3",
   "version": "3.7.6"
  }
 },
 "nbformat": 4,
 "nbformat_minor": 4
}
