{
 "cells": [
  {
   "cell_type": "markdown",
   "metadata": {},
   "source": [
    "# Data Science HomeWork #2"
   ]
  },
  {
   "cell_type": "code",
   "execution_count": 73,
   "metadata": {},
   "outputs": [],
   "source": [
    "from os.path import join\n",
    "import numpy as np\n",
    "import pandas as pd\n",
    "import matplotlib.pyplot as plt\n",
    "%matplotlib inline"
   ]
  },
  {
   "cell_type": "code",
   "execution_count": 74,
   "metadata": {},
   "outputs": [
    {
     "data": {
      "text/html": [
       "<div>\n",
       "<style scoped>\n",
       "    .dataframe tbody tr th:only-of-type {\n",
       "        vertical-align: middle;\n",
       "    }\n",
       "\n",
       "    .dataframe tbody tr th {\n",
       "        vertical-align: top;\n",
       "    }\n",
       "\n",
       "    .dataframe thead th {\n",
       "        text-align: right;\n",
       "    }\n",
       "</style>\n",
       "<table border=\"1\" class=\"dataframe\">\n",
       "  <thead>\n",
       "    <tr style=\"text-align: right;\">\n",
       "      <th></th>\n",
       "      <th>fixed acidity</th>\n",
       "      <th>volatile acidity</th>\n",
       "      <th>citric acid</th>\n",
       "      <th>residual sugar</th>\n",
       "      <th>chlorides</th>\n",
       "      <th>free sulfur dioxide</th>\n",
       "      <th>total sulfur dioxide</th>\n",
       "      <th>density</th>\n",
       "      <th>pH</th>\n",
       "      <th>sulphates</th>\n",
       "      <th>alcohol</th>\n",
       "      <th>quality</th>\n",
       "    </tr>\n",
       "  </thead>\n",
       "  <tbody>\n",
       "    <tr>\n",
       "      <th>0</th>\n",
       "      <td>7.4</td>\n",
       "      <td>0.70</td>\n",
       "      <td>0.00</td>\n",
       "      <td>1.9</td>\n",
       "      <td>0.076</td>\n",
       "      <td>11.0</td>\n",
       "      <td>34.0</td>\n",
       "      <td>0.9978</td>\n",
       "      <td>3.51</td>\n",
       "      <td>0.56</td>\n",
       "      <td>9.4</td>\n",
       "      <td>5</td>\n",
       "    </tr>\n",
       "    <tr>\n",
       "      <th>1</th>\n",
       "      <td>7.8</td>\n",
       "      <td>0.88</td>\n",
       "      <td>0.00</td>\n",
       "      <td>2.6</td>\n",
       "      <td>0.098</td>\n",
       "      <td>25.0</td>\n",
       "      <td>67.0</td>\n",
       "      <td>0.9968</td>\n",
       "      <td>3.20</td>\n",
       "      <td>0.68</td>\n",
       "      <td>9.8</td>\n",
       "      <td>5</td>\n",
       "    </tr>\n",
       "    <tr>\n",
       "      <th>2</th>\n",
       "      <td>7.8</td>\n",
       "      <td>0.76</td>\n",
       "      <td>0.04</td>\n",
       "      <td>2.3</td>\n",
       "      <td>0.092</td>\n",
       "      <td>15.0</td>\n",
       "      <td>54.0</td>\n",
       "      <td>0.9970</td>\n",
       "      <td>3.26</td>\n",
       "      <td>0.65</td>\n",
       "      <td>9.8</td>\n",
       "      <td>5</td>\n",
       "    </tr>\n",
       "    <tr>\n",
       "      <th>3</th>\n",
       "      <td>11.2</td>\n",
       "      <td>0.28</td>\n",
       "      <td>0.56</td>\n",
       "      <td>1.9</td>\n",
       "      <td>0.075</td>\n",
       "      <td>17.0</td>\n",
       "      <td>60.0</td>\n",
       "      <td>0.9980</td>\n",
       "      <td>3.16</td>\n",
       "      <td>0.58</td>\n",
       "      <td>9.8</td>\n",
       "      <td>6</td>\n",
       "    </tr>\n",
       "    <tr>\n",
       "      <th>4</th>\n",
       "      <td>7.4</td>\n",
       "      <td>0.70</td>\n",
       "      <td>0.00</td>\n",
       "      <td>1.9</td>\n",
       "      <td>0.076</td>\n",
       "      <td>11.0</td>\n",
       "      <td>34.0</td>\n",
       "      <td>0.9978</td>\n",
       "      <td>3.51</td>\n",
       "      <td>0.56</td>\n",
       "      <td>9.4</td>\n",
       "      <td>5</td>\n",
       "    </tr>\n",
       "  </tbody>\n",
       "</table>\n",
       "</div>"
      ],
      "text/plain": [
       "   fixed acidity  volatile acidity  citric acid  residual sugar  chlorides  \\\n",
       "0            7.4              0.70         0.00             1.9      0.076   \n",
       "1            7.8              0.88         0.00             2.6      0.098   \n",
       "2            7.8              0.76         0.04             2.3      0.092   \n",
       "3           11.2              0.28         0.56             1.9      0.075   \n",
       "4            7.4              0.70         0.00             1.9      0.076   \n",
       "\n",
       "   free sulfur dioxide  total sulfur dioxide  density    pH  sulphates  \\\n",
       "0                 11.0                  34.0   0.9978  3.51       0.56   \n",
       "1                 25.0                  67.0   0.9968  3.20       0.68   \n",
       "2                 15.0                  54.0   0.9970  3.26       0.65   \n",
       "3                 17.0                  60.0   0.9980  3.16       0.58   \n",
       "4                 11.0                  34.0   0.9978  3.51       0.56   \n",
       "\n",
       "   alcohol  quality  \n",
       "0      9.4        5  \n",
       "1      9.8        5  \n",
       "2      9.8        5  \n",
       "3      9.8        6  \n",
       "4      9.4        5  "
      ]
     },
     "execution_count": 74,
     "metadata": {},
     "output_type": "execute_result"
    }
   ],
   "source": [
    "## Data Import\n",
    "df = pd.read_csv(join('data','winequality_red.csv'),sep=';')\n",
    "df.head(5)"
   ]
  },
  {
   "cell_type": "code",
   "execution_count": 75,
   "metadata": {},
   "outputs": [],
   "source": [
    "## Remove columns we do not use in this example\n",
    "#del df['Id']\n",
    "#del df['Species']\n",
    "#df.head(5)"
   ]
  },
  {
   "cell_type": "code",
   "execution_count": 76,
   "metadata": {},
   "outputs": [
    {
     "name": "stdout",
     "output_type": "stream",
     "text": [
      "                      fixed acidity  volatile acidity  citric acid  \\\n",
      "fixed acidity              1.000000         -0.256131     0.671703   \n",
      "volatile acidity          -0.256131          1.000000    -0.552496   \n",
      "citric acid                0.671703         -0.552496     1.000000   \n",
      "residual sugar             0.114777          0.001918     0.143577   \n",
      "chlorides                  0.093705          0.061298     0.203823   \n",
      "free sulfur dioxide       -0.153794         -0.010504    -0.060978   \n",
      "total sulfur dioxide      -0.113181          0.076470     0.035533   \n",
      "density                    0.668047          0.022026     0.364947   \n",
      "pH                        -0.682978          0.234937    -0.541904   \n",
      "sulphates                  0.183006         -0.260987     0.312770   \n",
      "alcohol                   -0.061668         -0.202288     0.109903   \n",
      "quality                    0.124052         -0.390558     0.226373   \n",
      "\n",
      "                      residual sugar  chlorides  free sulfur dioxide  \\\n",
      "fixed acidity               0.114777   0.093705            -0.153794   \n",
      "volatile acidity            0.001918   0.061298            -0.010504   \n",
      "citric acid                 0.143577   0.203823            -0.060978   \n",
      "residual sugar              1.000000   0.055610             0.187049   \n",
      "chlorides                   0.055610   1.000000             0.005562   \n",
      "free sulfur dioxide         0.187049   0.005562             1.000000   \n",
      "total sulfur dioxide        0.203028   0.047400             0.667666   \n",
      "density                     0.355283   0.200632            -0.021946   \n",
      "pH                         -0.085652  -0.265026             0.070377   \n",
      "sulphates                   0.005527   0.371260             0.051658   \n",
      "alcohol                     0.042075  -0.221141            -0.069408   \n",
      "quality                     0.013732  -0.128907            -0.050656   \n",
      "\n",
      "                      total sulfur dioxide   density        pH  sulphates  \\\n",
      "fixed acidity                    -0.113181  0.668047 -0.682978   0.183006   \n",
      "volatile acidity                  0.076470  0.022026  0.234937  -0.260987   \n",
      "citric acid                       0.035533  0.364947 -0.541904   0.312770   \n",
      "residual sugar                    0.203028  0.355283 -0.085652   0.005527   \n",
      "chlorides                         0.047400  0.200632 -0.265026   0.371260   \n",
      "free sulfur dioxide               0.667666 -0.021946  0.070377   0.051658   \n",
      "total sulfur dioxide              1.000000  0.071269 -0.066495   0.042947   \n",
      "density                           0.071269  1.000000 -0.341699   0.148506   \n",
      "pH                               -0.066495 -0.341699  1.000000  -0.196648   \n",
      "sulphates                         0.042947  0.148506 -0.196648   1.000000   \n",
      "alcohol                          -0.205654 -0.496180  0.205633   0.093595   \n",
      "quality                          -0.185100 -0.174919 -0.057731   0.251397   \n",
      "\n",
      "                       alcohol   quality  \n",
      "fixed acidity        -0.061668  0.124052  \n",
      "volatile acidity     -0.202288 -0.390558  \n",
      "citric acid           0.109903  0.226373  \n",
      "residual sugar        0.042075  0.013732  \n",
      "chlorides            -0.221141 -0.128907  \n",
      "free sulfur dioxide  -0.069408 -0.050656  \n",
      "total sulfur dioxide -0.205654 -0.185100  \n",
      "density              -0.496180 -0.174919  \n",
      "pH                    0.205633 -0.057731  \n",
      "sulphates             0.093595  0.251397  \n",
      "alcohol               1.000000  0.476166  \n",
      "quality               0.476166  1.000000  \n",
      "\n",
      "fixed acidity           float64\n",
      "volatile acidity        float64\n",
      "citric acid             float64\n",
      "residual sugar          float64\n",
      "chlorides               float64\n",
      "free sulfur dioxide     float64\n",
      "total sulfur dioxide    float64\n",
      "density                 float64\n",
      "pH                      float64\n",
      "sulphates               float64\n",
      "alcohol                 float64\n",
      "quality                   int64\n",
      "dtype: object\n",
      "\n",
      "(1599, 12)\n"
     ]
    }
   ],
   "source": [
    "## Same functions to explore data\n",
    "print(df.corr())\n",
    "print()\n",
    "print(df.dtypes)\n",
    "print()\n",
    "print(df.shape)"
   ]
  },
  {
   "cell_type": "code",
   "execution_count": 77,
   "metadata": {},
   "outputs": [
    {
     "name": "stdout",
     "output_type": "stream",
     "text": [
      "1599 1119 480\n",
      "[ 793  242 1500 ...  256 1254 1434]\n",
      "1119 480\n"
     ]
    }
   ],
   "source": [
    "## Train-Valiedation Split\n",
    "## Index control by yourself\n",
    "\n",
    "n_data = df.shape[0]\n",
    "p_trn = 0.7\n",
    "n_trn = round(n_data * p_trn)\n",
    "n_tst = n_data - n_trn\n",
    "print(n_data, n_trn, n_tst)\n",
    "\n",
    "idx_data = pd.Series(range(0,1599))\n",
    "idx_data_perm = np.random.permutation(idx_data)\n",
    "print(idx_data_perm)\n",
    "\n",
    "idx_trn = idx_data_perm[0:n_trn]\n",
    "idx_tst = idx_data_perm[n_trn:n_data]\n",
    "print(len(idx_trn),len(idx_tst))\n",
    "\n",
    "# Train:Test = 7:3으로 맞춰주기위해 수동으로 작업을 해줌\n",
    "# 우선 Train Test의 개수를 계산한 후\n",
    "# Random Permutation을 통해\n",
    "# index를 계산해줌"
   ]
  },
  {
   "cell_type": "code",
   "execution_count": 78,
   "metadata": {},
   "outputs": [],
   "source": [
    "# 계산된 index에 맞춰 데이터 분할\n",
    "trnx = df.iloc[idx_trn,0:11]\n",
    "trny = df.iloc[idx_trn,11]\n",
    "tstx = df.iloc[idx_tst,0:11]\n",
    "tsty = df.iloc[idx_tst,11]"
   ]
  },
  {
   "cell_type": "code",
   "execution_count": 79,
   "metadata": {},
   "outputs": [],
   "source": [
    "# 혹은 scikit learn에서 제공해주는 함수를 사용할 수도 있음\n",
    "## )r you can use just this \n",
    "#from sklearn.model_selection import train_test_split\n",
    "\n",
    "#trnx, tstx, trny, tsty = train_test_split(df.iloc[:,0:11], df.iloc[:,11], test_size=0.3, random_state=123)"
   ]
  },
  {
   "cell_type": "markdown",
   "metadata": {},
   "source": [
    "## Linear Regression"
   ]
  },
  {
   "cell_type": "code",
   "execution_count": 80,
   "metadata": {
    "scrolled": false
   },
   "outputs": [
    {
     "name": "stdout",
     "output_type": "stream",
     "text": [
      "[5.20080684 5.60373603 4.91129103 5.18033916 5.17893485 5.34591683\n",
      " 6.11969462 5.61842536 5.60632185 5.56575632 6.61104606 4.97193552\n",
      " 6.17245456 5.49594342 6.2407024  5.03519153 5.36383483 5.39411488\n",
      " 6.65121409 6.34925185 5.10732162 5.97434367 4.99273601 5.32993643\n",
      " 5.69584551 6.02130462 5.23868694 5.88612533 5.59046013 5.47952609\n",
      " 5.23802507 5.63071109 5.99568991 5.87893031 6.48441451 5.71532629\n",
      " 5.62403935 6.23836929 5.13882754 6.15768475 5.17730011 4.74529145\n",
      " 5.37339019 5.20636514 6.24850612 6.80083664 5.46856457 5.40541252\n",
      " 5.35597335 4.88823093 5.1470784  5.35440466 5.60791018 5.32394541\n",
      " 5.36763231 6.55672551 6.63065651 6.3093164  6.07054068 6.44748013\n",
      " 5.32659033 6.13219434 6.72407328 6.24160796 5.58296561 5.78066059\n",
      " 5.0043959  5.47163846 6.80058149 5.34852122 5.07403948 6.19151719\n",
      " 6.03294705 5.96584393 5.34737031 5.18999726 5.43051454 5.47472963\n",
      " 6.04579545 5.56287887 5.2874934  5.50011499 4.95693735 5.49838085\n",
      " 4.8015733  4.55957312 6.44778986 6.30056973 5.16792909 6.41340335\n",
      " 5.05838054 5.70762268 6.28101261 5.29971528 5.60637888 5.61804895\n",
      " 5.83758139 6.80083664 6.70905253 6.19587121 5.7113655  5.27413838\n",
      " 6.05281742 5.29876125 5.10036659 6.51350908 5.16111985 5.75878543\n",
      " 6.13129053 5.48061287 5.21445335 5.77690493 5.48575685 6.00475696\n",
      " 6.56474183 5.59141932 5.08423156 5.71013923 4.89305688 6.16192653\n",
      " 5.29067136 6.11772447 5.4001291  6.31692565 5.06931318 5.74664825\n",
      " 5.58109973 5.13075594 5.3649667  5.36355297 5.69148339 5.58836058\n",
      " 5.39728599 5.2398316  6.40959672 5.50067835 5.57754936 5.18913883\n",
      " 5.15952698 5.25960215 6.27986709 5.93322223 5.97021299 6.24850612\n",
      " 5.43554209 5.57140949 5.03026829 5.43024608 5.83250565 6.62062387\n",
      " 6.15939677 6.43063498 5.02308915 6.14225036 5.50961513 6.0342234\n",
      " 5.82033994 5.39029834 5.00172103 4.96343235 5.36750224 5.0043959\n",
      " 6.20035557 5.75055923 5.98140653 5.78494479 5.59046013 5.07827475\n",
      " 5.70754226 6.3408387  5.03839924 5.01552819 4.99544247 5.41927366\n",
      " 5.16897883 5.95209091 4.83690179 5.03564597 4.9679074  5.41753223\n",
      " 5.01367084 5.0744113  5.27648786 6.9410258  5.51721294 5.66172274\n",
      " 5.15952698 4.93045607 5.94622894 6.10256042 5.602449   6.18650926\n",
      " 6.31776655 5.49517908 5.80731703 5.15579162 5.12594322 5.34223162\n",
      " 6.48441451 6.28381545 5.44055593 5.07613949 5.87966133 4.83105231\n",
      " 5.416208   5.94474334 5.95475519 5.18475692 5.71062887 5.10030042\n",
      " 6.55402932 5.74874549 5.33409733 5.61017716 4.9341652  6.28689943\n",
      " 5.58295037 5.76220758 5.69550434 5.16095384 4.99278028 5.07067952\n",
      " 5.41323868 5.56469433 5.40471249 5.69679613 5.35287826 6.25214774\n",
      " 5.42716136 5.32234307 5.77019572 4.73816628 5.58961472 5.99602903\n",
      " 5.97021299 5.49405225 5.62210313 6.33842679 5.30892451 5.27161611\n",
      " 5.55466274 5.59311553 5.87694674 4.85722427 5.0550049  5.62315096\n",
      " 5.43596945 6.47545979 5.59323738 6.17082307 6.18112547 5.4001291\n",
      " 5.11356371 5.89825649 5.68947299 5.08862299 4.85575743 5.30848759\n",
      " 5.44973151 5.83350781 5.69679613 5.93264841 5.68438456 6.17022673\n",
      " 6.23404994 5.2624991  5.74574065 6.76720593 5.82756319 5.57159933\n",
      " 5.26879858 6.53027979 5.74011496 5.34223162 5.47571106 6.02113156\n",
      " 5.50894298 5.02149768 6.29729834 5.36640469 5.71841043 6.08175977\n",
      " 5.87966133 5.45244946 5.4633159  5.36395127 5.51184628 5.8882532\n",
      " 6.48503618 5.75390796 5.56703892 6.40186084 5.08545129 5.50239353\n",
      " 5.28945011 6.18241928 5.28025814 5.62082865 6.25578371 5.44916923\n",
      " 5.40541252 4.95889897 5.3021247  6.079175   5.12178023 5.7120565\n",
      " 5.64143202 5.75588796 5.69272188 5.31674932 5.34110539 5.48103771\n",
      " 6.63396725 5.50432689 4.94352644 5.53390552 5.50965577 6.17082307\n",
      " 4.92683361 5.59848161 5.81829051 5.23173202 6.19587121 5.92318839\n",
      " 5.9191129  5.46280992 4.39195767 5.46776433 5.40396353 6.92218322\n",
      " 5.55124585 5.9420548  5.57463875 5.07501532 5.41869375 6.11656303\n",
      " 5.26295538 6.05133835 5.24401315 5.47668011 5.83722367 5.93164782\n",
      " 5.84327252 5.8491896  5.30338191 6.43630687 5.23779422 5.17574247\n",
      " 5.23868694 5.94613464 6.19320432 5.165098   5.316148   5.77300048\n",
      " 5.05504365 5.16670089 5.18475692 5.70217954 6.64204718 6.33547358\n",
      " 5.55842065 5.4633159  5.26295538 5.40460506 5.62677286 5.3597164\n",
      " 5.4213407  5.59685921 5.73788923 6.15939677 6.16142091 5.34935861\n",
      " 5.08545129 6.06121309 5.932275   5.05955727 5.41771774 4.69850768\n",
      " 6.14515957 5.83602233 6.17926393 6.14355347 6.77562437 5.4995005\n",
      " 5.67743738 4.65654035 6.41170133 5.80540985 5.80549193 6.34971858\n",
      " 5.16647478 5.60373603 5.3003343  5.29395238 6.27887802 5.83350781\n",
      " 5.28854337 4.88034755 5.03264923 4.75346657 4.91787812 4.87494483\n",
      " 6.65121409 5.61360292 5.60734379 5.02976922 5.11128247 5.67879671\n",
      " 5.52666894 5.76681082 5.8588871  5.28366924 5.97492573 5.06224925\n",
      " 5.29490266 5.69354532 5.72939781 6.35804265 6.06363597 5.35546712\n",
      " 5.1255252  5.25994121 6.09330906 6.0229231  5.31798064 6.09784133\n",
      " 5.62082865 6.82346315 4.65654035 5.37339019 5.74483038 5.61982288\n",
      " 6.49956621 5.09246852 4.77956812 5.60125032 5.57783739 5.04379789\n",
      " 5.139026   5.28945011 6.39786946 6.22752776 6.10814573 6.08475815\n",
      " 5.10945512 5.70794705 6.38872883 6.33525439 5.20636514 5.31841363\n",
      " 6.47716819 6.3751425  5.81115928 5.49092916 5.68438456 6.22219954\n",
      " 6.45563346 5.69508512 6.03949183 5.16209723 5.15365454 6.06552615\n",
      " 5.83069293 5.09752414 4.62016575 5.22676378 5.41771774 5.15260433\n",
      " 5.07316823 5.95502942 5.30565324 5.74359112 4.99899262 4.89321708\n",
      " 6.51198253 5.26242357 5.280607   5.61876339 5.61655908 5.21663991]\n"
     ]
    }
   ],
   "source": [
    "# Resgression Learning\n",
    "from sklearn.linear_model import LinearRegression\n",
    "model = LinearRegression()\n",
    "model.fit(X=trnx, y=trny)\n",
    "lr_pred = model.predict(X=tstx)\n",
    "print(lr_pred)"
   ]
  },
  {
   "cell_type": "code",
   "execution_count": 81,
   "metadata": {},
   "outputs": [
    {
     "data": {
      "text/plain": [
       "0.6834595769706395"
      ]
     },
     "execution_count": 81,
     "metadata": {},
     "output_type": "execute_result"
    }
   ],
   "source": [
    "np.sqrt(np.mean((np.square(lr_pred - tsty))))"
   ]
  },
  {
   "cell_type": "code",
   "execution_count": 82,
   "metadata": {},
   "outputs": [
    {
     "name": "stdout",
     "output_type": "stream",
     "text": [
      "55     -0.200807\n",
      "1468    1.396264\n",
      "266    -0.911291\n",
      "673    -0.180339\n",
      "2      -0.178935\n",
      "          ...   \n",
      "461    -0.262424\n",
      "642    -0.280607\n",
      "256    -0.618763\n",
      "1254   -0.616559\n",
      "1434    0.783360\n",
      "Name: quality, Length: 480, dtype: float64\n"
     ]
    }
   ],
   "source": [
    "print(tsty - lr_pred)"
   ]
  },
  {
   "cell_type": "code",
   "execution_count": 83,
   "metadata": {},
   "outputs": [
    {
     "name": "stdout",
     "output_type": "stream",
     "text": [
      "[15301.86932918]\n"
     ]
    },
    {
     "data": {
      "image/png": "[encoded data removed]",
      "text/plain": [
       "<Figure size 432x288 with 1 Axes>"
      ]
     },
     "metadata": {
      "needs_background": "light"
     },
     "output_type": "display_data"
    }
   ],
   "source": [
    "# y vs. y_hat 그림을 통해 시각화 \n",
    "# Correlation 계산\n",
    "plt.scatter(x = tsty, y= lr_pred)\n",
    "plt.plot(tsty,lr_pred,'o')\n",
    "m,b = np.polyfit(tsty,lr_pred,1)\n",
    "plt.plot(tsty, m*tsty+b)\n",
    "print(np.correlate(tsty, lr_pred))"
   ]
  },
  {
   "cell_type": "code",
   "execution_count": 84,
   "metadata": {},
   "outputs": [
    {
     "name": "stdout",
     "output_type": "stream",
     "text": [
      "RMSE: 0.6834595769706395\n",
      "MAE: 0.5310964560091583\n",
      "R2: 0.3085039400888926\n"
     ]
    }
   ],
   "source": [
    "from sklearn import metrics\n",
    "print('RMSE:', np.sqrt(metrics.mean_squared_error(lr_pred,tsty)))\n",
    "print('MAE:',metrics.mean_absolute_error(tsty, lr_pred))\n",
    "print('R2:',metrics.r2_score(tsty, lr_pred))\n"
   ]
  },
  {
   "cell_type": "markdown",
   "metadata": {},
   "source": [
    "## Lasso Regression"
   ]
  },
  {
   "cell_type": "code",
   "execution_count": 85,
   "metadata": {
    "scrolled": false
   },
   "outputs": [
    {
     "name": "stdout",
     "output_type": "stream",
     "text": [
      "[5.64564245 5.61154932 5.58503244 5.76686248 5.61154932 5.53199868\n",
      " 5.76686248 5.71761684 5.63427808 5.66837121 5.65321871 5.57366807\n",
      " 5.7554981  5.72898122 5.71004059 5.52821056 5.52063431 5.65700683\n",
      " 5.40320241 5.61912557 5.41835491 5.46381242 5.36153303 5.66837121\n",
      " 5.7403456  5.75170997 5.69867621 5.74413372 5.3274399  5.75170997\n",
      " 5.4903293  5.59639682 5.70625247 5.76307435 5.72519309 5.69867621\n",
      " 5.78201498 5.6077612  5.55851556 5.70625247 5.4600243  5.60397307\n",
      " 5.7403456  5.68352371 5.77443873 5.77822685 5.66458308 5.77443873\n",
      " 5.71761684 5.49790555 5.33501615 5.69488809 5.61912557 5.72898122\n",
      " 5.6077612  5.60018495 5.65700683 5.71382872 5.78580311 5.53578681\n",
      " 5.66837121 5.73655747 5.69109996 5.71382872 5.73276935 5.61533745\n",
      " 5.4600243  5.75928623 5.77443873 5.61912557 5.39941428 5.7706506\n",
      " 5.74792185 5.72519309 5.77443873 5.67215933 5.75170997 5.69867621\n",
      " 5.72140497 5.69109996 5.63427808 5.69867621 5.76307435 5.71004059\n",
      " 5.47896492 5.26682988 5.68731184 5.65700683 5.56609181 5.7403456\n",
      " 5.6380662  5.73276935 5.78959123 5.58124432 5.67594746 5.70625247\n",
      " 5.70246434 5.77822685 5.62670183 5.72140497 5.55093931 5.71382872\n",
      " 5.67215933 5.57745619 5.74413372 5.75928623 5.72519309 5.75928623\n",
      " 5.75170997 5.73276935 5.46760055 5.72140497 5.74792185 5.72898122\n",
      " 5.71382872 5.72898122 5.28577051 5.56230369 5.48275305 5.75170997\n",
      " 5.77443873 5.6077612  5.77443873 5.70246434 5.69867621 5.63048995\n",
      " 5.33122802 5.76307435 5.7403456  5.75928623 5.64185433 5.68731184\n",
      " 5.51684618 5.71382872 5.75170997 5.69867621 5.63048995 5.78201498\n",
      " 5.52252837 5.56230369 5.71004059 5.71004059 5.6077612  5.77443873\n",
      " 5.68352371 5.67215933 5.4751768  5.71004059 5.7554981  5.75170997\n",
      " 5.64943058 5.7554981  5.51305806 5.71004059 5.76686248 5.56230369\n",
      " 5.64943058 5.69867621 5.72519309 5.7403456  5.56609181 5.4600243\n",
      " 5.71382872 5.6380662  5.7403456  5.69867621 5.3274399  5.69867621\n",
      " 5.76307435 5.74792185 5.67215933 5.69867621 5.76686248 5.7706506\n",
      " 5.65321871 5.61154932 5.45623617 5.73276935 5.49411743 5.59260869\n",
      " 5.60397307 5.56987994 5.68731184 5.71382872 5.44487179 5.73276935\n",
      " 5.52252837 5.44487179 5.70625247 5.72140497 5.68731184 5.64943058\n",
      " 5.64564245 5.64943058 5.76686248 5.72898122 5.3425924  5.76307435\n",
      " 5.72519309 5.6380662  5.73655747 5.56987994 5.61154932 5.74413372\n",
      " 5.36532115 5.7403456  5.6380662  5.47138867 5.68352371 5.69488809\n",
      " 5.72140497 5.68731184 5.65700683 5.50926993 5.46760055 5.6380662\n",
      " 5.70246434 5.7554981  5.58882057 5.47138867 5.49790555 5.68352371\n",
      " 5.53199868 5.63048995 5.71004059 5.58503244 5.39562616 5.74792185\n",
      " 5.58503244 5.73655747 5.61533745 5.44108367 5.46760055 5.7706506\n",
      " 5.6077612  5.67594746 5.72519309 5.66837121 5.56987994 5.58882057\n",
      " 5.57745619 5.72140497 5.6380662  5.56987994 5.41835491 5.61154932\n",
      " 5.71004059 5.72898122 5.6380662  5.64185433 5.70625247 5.77443873\n",
      " 5.7706506  5.71004059 5.61154932 5.48654118 5.47896492 5.69109996\n",
      " 5.70246434 5.69488809 5.58503244 5.74792185 5.57745619 5.47138867\n",
      " 5.73655747 5.39941428 5.59260869 5.7706506  5.76307435 5.59639682\n",
      " 5.43350742 5.7554981  5.68731184 5.76307435 5.76307435 5.56987994\n",
      " 5.49790555 5.6380662  5.59260869 5.63427808 5.71004059 5.61912557\n",
      " 5.61154932 5.64564245 5.58124432 5.58882057 5.68352371 5.41835491\n",
      " 5.72519309 5.67973559 5.67594746 5.71382872 5.58882057 5.71382872\n",
      " 5.59639682 5.73276935 5.65321871 5.69867621 5.52442243 5.69867621\n",
      " 5.77443873 5.32365177 5.36532115 5.61533745 5.61912557 5.55472744\n",
      " 5.26682988 5.65321871 5.50926993 5.61154932 5.7554981  5.60018495\n",
      " 5.65700683 5.60397307 5.28198239 5.61912557 5.63048995 5.64185433\n",
      " 5.72140497 5.66079496 5.6077612  5.74792185 5.72140497 5.67594746\n",
      " 5.68731184 5.78201498 5.240313   5.67215933 5.72140497 5.74792185\n",
      " 5.47896492 5.55472744 5.65700683 5.49411743 5.71004059 5.7554981\n",
      " 5.72140497 5.62670183 5.73276935 5.76307435 5.71761684 5.48275305\n",
      " 5.42593116 5.66079496 5.55093931 5.78580311 5.65700683 5.66458308\n",
      " 5.69867621 5.72898122 5.78201498 5.48275305 5.73655747 5.74792185\n",
      " 5.72898122 5.74792185 5.47138867 5.63427808 5.75170997 5.64564245\n",
      " 5.62670183 5.58124432 5.72140497 5.64564245 5.3577449  5.62670183\n",
      " 5.59639682 5.75928623 5.210008   5.64943058 5.75928623 5.68352371\n",
      " 5.58882057 5.67973559 5.76307435 5.27061801 5.68352371 5.78580311\n",
      " 5.77822685 5.69109996 5.69109996 5.59639682 5.65700683 5.63048995\n",
      " 5.64564245 5.67594746 5.70246434 5.67973559 5.70625247 5.71004059\n",
      " 5.47138867 5.61154932 5.52063431 5.74792185 5.54336306 5.69488809\n",
      " 5.69867621 5.67594746 5.7403456  5.61154932 5.34638052 5.36532115\n",
      " 5.40320241 5.7403456  5.74792185 5.6077612  5.41835491 5.57366807\n",
      " 5.69867621 5.65700683 5.53578681 5.69867621 5.74413372 5.64564245\n",
      " 5.66079496 5.59639682 5.52063431 5.58882057 5.75928623 5.55851556\n",
      " 5.64185433 5.61912557 5.77443873 5.72519309 5.53199868 5.38804991\n",
      " 5.69867621 5.76686248 5.67594746 5.7403456  5.63048995 5.64185433\n",
      " 5.74413372 5.50926993 5.75928623 5.61912557 5.77443873 5.72519309\n",
      " 5.65700683 5.59639682 5.77822685 5.67594746 5.71004059 5.6229137\n",
      " 5.4903293  5.64943058 5.77822685 5.65321871 5.68352371 5.67215933\n",
      " 5.73655747 5.68731184 5.65700683 5.78580311 5.57745619 5.76686248\n",
      " 5.58882057 5.7403456  5.7706506  5.57745619 5.50169368 5.53957493\n",
      " 5.72898122 5.65700683 5.46381242 5.5054818  5.68352371 5.67215933\n",
      " 5.30471114 5.73276935 5.4903293  5.65700683 5.3577449  5.56609181\n",
      " 5.74413372 5.74413372 5.66458308 5.76686248 5.68352371 5.45623617]\n"
     ]
    }
   ],
   "source": [
    "from sklearn.linear_model import Lasso\n",
    "model_lasso = Lasso()\n",
    "model_lasso.fit(X=trnx, y=trny)\n",
    "lr_pred_lasso = model_lasso.predict(X=tstx)\n",
    "print(lr_pred_lasso)"
   ]
  },
  {
   "cell_type": "code",
   "execution_count": 86,
   "metadata": {
    "scrolled": false
   },
   "outputs": [
    {
     "data": {
      "text/plain": [
       "0.811898535224369"
      ]
     },
     "execution_count": 86,
     "metadata": {},
     "output_type": "execute_result"
    }
   ],
   "source": [
    "np.sqrt(np.mean((np.square(lr_pred_lasso - tsty))))"
   ]
  },
  {
   "cell_type": "code",
   "execution_count": 87,
   "metadata": {},
   "outputs": [
    {
     "name": "stdout",
     "output_type": "stream",
     "text": [
      "55     -0.645642\n",
      "1468    1.388451\n",
      "266    -1.585032\n",
      "673    -0.766862\n",
      "2      -0.611549\n",
      "          ...   \n",
      "461    -0.744134\n",
      "642    -0.664583\n",
      "256    -0.766862\n",
      "1254   -0.683524\n",
      "1434    0.543764\n",
      "Name: quality, Length: 480, dtype: float64\n"
     ]
    }
   ],
   "source": [
    "print(tsty - lr_pred_lasso)"
   ]
  },
  {
   "cell_type": "code",
   "execution_count": 88,
   "metadata": {},
   "outputs": [
    {
     "name": "stdout",
     "output_type": "stream",
     "text": [
      "[15242.49349026]\n"
     ]
    },
    {
     "data": {
      "image/png": "[encoded data removed]",
      "text/plain": [
       "<Figure size 432x288 with 1 Axes>"
      ]
     },
     "metadata": {
      "needs_background": "light"
     },
     "output_type": "display_data"
    }
   ],
   "source": [
    "# y vs. y_hat 그림을 통해 시각화 \n",
    "# Correlation 계산\n",
    "plt.scatter(x = tsty, y= lr_pred_lasso)\n",
    "plt.plot(tsty,lr_pred_lasso,'o')\n",
    "m,b = np.polyfit(tsty,lr_pred_lasso,1)\n",
    "plt.plot(tsty, m*tsty+b)\n",
    "print(np.correlate(tsty, lr_pred_lasso))"
   ]
  },
  {
   "cell_type": "code",
   "execution_count": 89,
   "metadata": {},
   "outputs": [
    {
     "name": "stdout",
     "output_type": "stream",
     "text": [
      "RMSE: 0.8118985352243688\n",
      "MAE: 0.6778247015342198\n",
      "R2: 0.02418484481730654\n"
     ]
    }
   ],
   "source": [
    "print('RMSE:', np.sqrt(metrics.mean_squared_error(lr_pred_lasso,tsty)))\n",
    "print('MAE:',metrics.mean_absolute_error(tsty, lr_pred_lasso))\n",
    "print('R2:',metrics.r2_score(tsty, lr_pred_lasso))"
   ]
  },
  {
   "cell_type": "markdown",
   "metadata": {},
   "source": [
    "## Ridge Regression"
   ]
  },
  {
   "cell_type": "code",
   "execution_count": 90,
   "metadata": {
    "scrolled": false
   },
   "outputs": [
    {
     "name": "stdout",
     "output_type": "stream",
     "text": [
      "[5.20754983 5.60171726 4.95228531 5.16850367 5.18125336 5.40387424\n",
      " 6.12153923 5.60180985 5.60972584 5.5710581  6.60347607 4.94145715\n",
      " 6.15510557 5.48916711 6.19428466 5.03487055 5.32287486 5.41181731\n",
      " 6.61759993 6.32986641 5.08870107 5.95204263 4.9890985  5.3313489\n",
      " 5.72877258 6.0900452  5.24328724 5.90420795 5.57635607 5.48122149\n",
      " 5.23874628 5.67233404 5.9831013  5.87398345 6.45750065 5.75800034\n",
      " 5.62404403 6.18773033 5.14117235 6.14022211 5.17018195 4.7330736\n",
      " 5.36152839 5.19196299 6.22866996 6.77244955 5.46719948 5.4230481\n",
      " 5.33326457 4.88620118 5.14043312 5.34046993 5.61320485 5.35370755\n",
      " 5.39030371 6.47512408 6.62187513 6.31104605 6.06532789 6.43659693\n",
      " 5.3191407  6.05293859 6.73784985 6.18267805 5.58681158 5.77577359\n",
      " 5.0313915  5.48948501 6.806888   5.33740112 5.13913937 6.16927373\n",
      " 6.03654368 5.97035427 5.33968545 5.19159884 5.45973115 5.44857293\n",
      " 6.06698387 5.58270411 5.2842448  5.49477637 4.95617511 5.46817648\n",
      " 4.80888124 4.56283345 6.42478878 6.25056148 5.16080308 6.37299536\n",
      " 5.05345709 5.67242463 6.28410697 5.34933404 5.61976572 5.63217692\n",
      " 5.84529012 6.77244955 6.71472476 6.18598685 5.69875191 5.30139084\n",
      " 6.06170636 5.26721075 5.10825998 6.49719407 5.16559303 5.73620181\n",
      " 6.10610262 5.45876632 5.23032629 5.70563932 5.4688605  6.01080487\n",
      " 6.52968606 5.60116991 5.08568768 5.73605958 4.88688342 6.18161627\n",
      " 5.28673617 6.12562893 5.39040665 6.35611858 5.07545214 5.74134422\n",
      " 5.56851102 5.15576017 5.37959169 5.3433269  5.69055944 5.59201916\n",
      " 5.39723665 5.23452997 6.39464584 5.50316071 5.58244765 5.15650071\n",
      " 5.15561906 5.25981074 6.25515363 5.93147062 5.96877569 6.22866996\n",
      " 5.45119951 5.53844805 5.08032287 5.41841439 5.82854304 6.59271281\n",
      " 6.13276753 6.4423513  5.03468782 6.14073219 5.50672166 6.03437367\n",
      " 5.77821572 5.41440256 5.01038175 4.94897133 5.37010233 5.0313915\n",
      " 6.20321867 5.73790808 5.99683982 5.8227232  5.57635607 5.0578756\n",
      " 5.70650217 6.3037826  5.03911798 5.03635437 5.01475144 5.39016725\n",
      " 5.18198398 5.91775718 4.83967134 5.03405856 4.97920142 5.42422597\n",
      " 4.99960126 5.06246117 5.26432681 6.91947954 5.50959569 5.65611268\n",
      " 5.15561906 4.92562698 5.85827713 6.08152993 5.60920002 6.22024388\n",
      " 6.32880185 5.50323502 5.80056175 5.14776451 5.13437416 5.36585148\n",
      " 6.45750065 6.27188465 5.43740621 5.0784217  5.8574184  4.81440472\n",
      " 5.41791323 5.93162286 5.96978565 5.19098933 5.70608493 5.094847\n",
      " 6.51941581 5.74156863 5.30730668 5.67728744 4.92151234 6.36274001\n",
      " 5.57964117 5.75170399 5.68283085 5.1570907  4.99322564 5.08594513\n",
      " 5.42207657 5.61547306 5.39839569 5.69510155 5.35106241 6.21568018\n",
      " 5.43374599 5.30380944 5.79204067 4.77233884 5.59380335 6.03102111\n",
      " 5.96877569 5.48483865 5.59224395 6.32137638 5.38221244 5.26999736\n",
      " 5.62191453 5.58638029 5.87502272 4.84015747 5.04835785 5.65081924\n",
      " 5.4581335  6.46506712 5.56066196 6.14826734 6.18396094 5.39040665\n",
      " 5.12263341 5.93839102 5.68537997 5.10435949 4.85680391 5.28351024\n",
      " 5.44573183 5.81944473 5.69510155 5.91759354 5.68467638 6.14484349\n",
      " 6.21421021 5.27261056 5.77604123 6.75921257 5.84939373 5.57257935\n",
      " 5.30148964 6.59520582 5.75181369 5.36585148 5.48387264 6.05285815\n",
      " 5.49295734 5.01800919 6.29993655 5.37883653 5.69508033 6.09058114\n",
      " 5.8574184  5.46126674 5.49609324 5.35718484 5.49692593 5.86247235\n",
      " 6.47830497 5.76503014 5.57625433 6.39536389 5.07795665 5.50669536\n",
      " 5.34225587 6.21174353 5.2816495  5.62785888 6.21937293 5.44140161\n",
      " 5.4230481  4.97631136 5.29214586 6.05464613 5.13111894 5.91307208\n",
      " 5.60537992 5.76778777 5.72872825 5.32759072 5.33411691 5.51523547\n",
      " 6.60618738 5.61112415 4.95030607 5.53349118 5.4855082  6.14826734\n",
      " 4.91353219 5.61123379 5.84068164 5.2196729  6.18598685 5.9381476\n",
      " 5.91097029 5.49654845 4.39595218 5.57667648 5.39672458 6.87683061\n",
      " 5.5616589  5.93645406 5.56863148 5.06366912 5.42646885 6.15826284\n",
      " 5.24981109 6.07580301 5.24702437 5.44186419 5.84618238 5.90604061\n",
      " 5.85089602 5.81927823 5.3199556  6.40864265 5.22544532 5.18699531\n",
      " 5.24328724 5.97902042 6.19882612 5.16108057 5.29727384 5.74544468\n",
      " 5.08402246 5.27151662 5.19098933 5.72876311 6.61491096 6.33158294\n",
      " 5.51168134 5.49609324 5.24981109 5.41793436 5.60018279 5.37332708\n",
      " 5.4383612  5.60659554 5.69131766 6.13276753 6.18561253 5.33674596\n",
      " 5.07795665 6.04728393 5.92859478 5.06552332 5.41623553 4.69623948\n",
      " 6.12371498 5.82932375 6.17669618 6.12323362 6.77443    5.48020608\n",
      " 5.67578006 4.62100663 6.37286706 5.83600065 5.76220189 6.34506689\n",
      " 5.16537975 5.60171726 5.30898139 5.28209799 6.26530356 5.81944473\n",
      " 5.28486454 5.06446742 5.02384728 4.75231622 4.97011633 4.90302534\n",
      " 6.61759993 5.59918821 5.6151142  5.02130755 5.11516083 5.70146556\n",
      " 5.54280451 5.79334041 5.91306839 5.30328583 5.91461735 5.1332576\n",
      " 5.29448209 5.70383198 5.72671944 6.3266692  6.01838215 5.36588435\n",
      " 5.12265274 5.23543284 6.08035926 5.99295228 5.3349121  6.03291089\n",
      " 5.62785888 6.80543952 4.62100663 5.36152839 5.75175897 5.65519864\n",
      " 6.45838399 5.08884219 4.87499859 5.61633602 5.56088802 5.06452303\n",
      " 5.10007388 5.34225587 6.4048655  6.22428557 6.11302239 6.1002049\n",
      " 5.18811078 5.70124869 6.35320783 6.33305958 5.19196299 5.32389041\n",
      " 6.43907673 6.3804944  5.77944736 5.49031303 5.68467638 6.23464737\n",
      " 6.4821532  5.71722041 6.01931122 5.14244402 5.12907463 6.03832425\n",
      " 5.82011764 5.0764309  4.65942198 5.24589047 5.41623553 5.13191476\n",
      " 5.07425037 5.98437911 5.31585964 5.77835781 4.98243898 5.01568753\n",
      " 6.4871944  5.26197227 5.27416993 5.59840917 5.62140198 5.25276099]\n"
     ]
    }
   ],
   "source": [
    "from sklearn.linear_model import Ridge\n",
    "model_ridge = Ridge()\n",
    "model_ridge.fit(X=trnx, y=trny)\n",
    "lr_pred_ridge = model_ridge.predict(X=tstx)\n",
    "print(lr_pred_ridge)"
   ]
  },
  {
   "cell_type": "code",
   "execution_count": 91,
   "metadata": {
    "scrolled": true
   },
   "outputs": [
    {
     "data": {
      "text/plain": [
       "0.6837361837685478"
      ]
     },
     "execution_count": 91,
     "metadata": {},
     "output_type": "execute_result"
    }
   ],
   "source": [
    "np.sqrt(np.mean((np.square(lr_pred_ridge - tsty))))"
   ]
  },
  {
   "cell_type": "code",
   "execution_count": 92,
   "metadata": {},
   "outputs": [
    {
     "name": "stdout",
     "output_type": "stream",
     "text": [
      "55     -0.207550\n",
      "1468    1.398283\n",
      "266    -0.952285\n",
      "673    -0.168504\n",
      "2      -0.181253\n",
      "          ...   \n",
      "461    -0.261972\n",
      "642    -0.274170\n",
      "256    -0.598409\n",
      "1254   -0.621402\n",
      "1434    0.747239\n",
      "Name: quality, Length: 480, dtype: float64\n"
     ]
    }
   ],
   "source": [
    "print(tsty - lr_pred_ridge)"
   ]
  },
  {
   "cell_type": "code",
   "execution_count": 93,
   "metadata": {
    "scrolled": true
   },
   "outputs": [
    {
     "name": "stdout",
     "output_type": "stream",
     "text": [
      "[15301.1910408]\n"
     ]
    },
    {
     "data": {
      "image/png": "[encoded data removed]",
      "text/plain": [
       "<Figure size 432x288 with 1 Axes>"
      ]
     },
     "metadata": {
      "needs_background": "light"
     },
     "output_type": "display_data"
    }
   ],
   "source": [
    "# y vs. y_hat 그림을 통해 시각화 \n",
    "# Correlation 계산\n",
    "plt.scatter(x = tsty, y= lr_pred_ridge)\n",
    "plt.plot(tsty,lr_pred_ridge,'o')\n",
    "m,b = np.polyfit(tsty,lr_pred_ridge,1)\n",
    "plt.plot(tsty, m*tsty+b)\n",
    "print(np.correlate(tsty, lr_pred_ridge))"
   ]
  },
  {
   "cell_type": "code",
   "execution_count": 94,
   "metadata": {
    "scrolled": true
   },
   "outputs": [
    {
     "name": "stdout",
     "output_type": "stream",
     "text": [
      "RMSE: 0.6837361837685474\n",
      "MAE: 0.5307027169107269\n",
      "R2: 0.30794410824854657\n"
     ]
    }
   ],
   "source": [
    "print('RMSE:', np.sqrt(metrics.mean_squared_error(lr_pred_ridge,tsty)))\n",
    "print('MAE:',metrics.mean_absolute_error(tsty, lr_pred_ridge))\n",
    "print('R2:',metrics.r2_score(tsty, lr_pred_ridge))"
   ]
  },
  {
   "cell_type": "code",
   "execution_count": 95,
   "metadata": {},
   "outputs": [
    {
     "name": "stdout",
     "output_type": "stream",
     "text": [
      "[ 6.11940150e-03 -1.17357209e+00 -6.39488984e-02  1.90357818e-02\n",
      " -1.87090893e+00  2.14203086e-03 -3.31371585e-03 -1.64558255e+01\n",
      " -4.76499856e-01  8.66117648e-01  2.71207000e-01]\n",
      "[ 0.         -0.          0.          0.         -0.          0.\n",
      " -0.00378813 -0.         -0.          0.          0.        ]\n",
      "[-0.00237345 -1.18860153 -0.08355217  0.01060938 -1.21338882  0.00224704\n",
      " -0.00322109 -0.01494127 -0.47637933  0.76057138  0.29345176]\n"
     ]
    }
   ],
   "source": [
    "print(model.coef_)\n",
    "print(model_lasso.coef_)\n",
    "print(model_ridge.coef_)\n",
    "#회귀계수"
   ]
  },
  {
   "cell_type": "code",
   "execution_count": null,
   "metadata": {},
   "outputs": [],
   "source": []
  },
  {
   "cell_type": "code",
   "execution_count": null,
   "metadata": {},
   "outputs": [],
   "source": []
  }
 ],
 "metadata": {
  "kernelspec": {
   "display_name": "Python 3",
   "language": "python",
   "name": "python3"
  },
  "language_info": {
   "codemirror_mode": {
    "name": "ipython",
    "version": 3
   },
   "file_extension": ".py",
   "mimetype": "text/x-python",
   "name": "python",
   "nbconvert_exporter": "python",
   "pygments_lexer": "ipython3",
   "version": "3.7.6"
  }
 },
 "nbformat": 4,
 "nbformat_minor": 4
}
