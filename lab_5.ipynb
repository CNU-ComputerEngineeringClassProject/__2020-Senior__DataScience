{
 "cells": [
  {
   "cell_type": "code",
   "execution_count": 13,
   "metadata": {},
   "outputs": [],
   "source": [
    "from os.path import join\n",
    "import numpy as np\n",
    "import pandas as pd\n",
    "import matplotlib.pyplot as plt\n",
    "%matplotlib inline"
   ]
  },
  {
   "cell_type": "code",
   "execution_count": 14,
   "metadata": {},
   "outputs": [
    {
     "data": {
      "text/html": [
       "<div>\n",
       "<style scoped>\n",
       "    .dataframe tbody tr th:only-of-type {\n",
       "        vertical-align: middle;\n",
       "    }\n",
       "\n",
       "    .dataframe tbody tr th {\n",
       "        vertical-align: top;\n",
       "    }\n",
       "\n",
       "    .dataframe thead th {\n",
       "        text-align: right;\n",
       "    }\n",
       "</style>\n",
       "<table border=\"1\" class=\"dataframe\">\n",
       "  <thead>\n",
       "    <tr style=\"text-align: right;\">\n",
       "      <th></th>\n",
       "      <th>Id</th>\n",
       "      <th>SepalLengthCm</th>\n",
       "      <th>SepalWidthCm</th>\n",
       "      <th>PetalLengthCm</th>\n",
       "      <th>PetalWidthCm</th>\n",
       "      <th>Species</th>\n",
       "    </tr>\n",
       "  </thead>\n",
       "  <tbody>\n",
       "    <tr>\n",
       "      <th>0</th>\n",
       "      <td>1</td>\n",
       "      <td>5.1</td>\n",
       "      <td>3.5</td>\n",
       "      <td>1.4</td>\n",
       "      <td>0.2</td>\n",
       "      <td>Iris-setosa</td>\n",
       "    </tr>\n",
       "    <tr>\n",
       "      <th>1</th>\n",
       "      <td>2</td>\n",
       "      <td>4.9</td>\n",
       "      <td>3.0</td>\n",
       "      <td>1.4</td>\n",
       "      <td>0.2</td>\n",
       "      <td>Iris-setosa</td>\n",
       "    </tr>\n",
       "    <tr>\n",
       "      <th>2</th>\n",
       "      <td>3</td>\n",
       "      <td>4.7</td>\n",
       "      <td>3.2</td>\n",
       "      <td>1.3</td>\n",
       "      <td>0.2</td>\n",
       "      <td>Iris-setosa</td>\n",
       "    </tr>\n",
       "    <tr>\n",
       "      <th>3</th>\n",
       "      <td>4</td>\n",
       "      <td>4.6</td>\n",
       "      <td>3.1</td>\n",
       "      <td>1.5</td>\n",
       "      <td>0.2</td>\n",
       "      <td>Iris-setosa</td>\n",
       "    </tr>\n",
       "    <tr>\n",
       "      <th>4</th>\n",
       "      <td>5</td>\n",
       "      <td>5.0</td>\n",
       "      <td>3.6</td>\n",
       "      <td>1.4</td>\n",
       "      <td>0.2</td>\n",
       "      <td>Iris-setosa</td>\n",
       "    </tr>\n",
       "  </tbody>\n",
       "</table>\n",
       "</div>"
      ],
      "text/plain": [
       "   Id  SepalLengthCm  SepalWidthCm  PetalLengthCm  PetalWidthCm      Species\n",
       "0   1            5.1           3.5            1.4           0.2  Iris-setosa\n",
       "1   2            4.9           3.0            1.4           0.2  Iris-setosa\n",
       "2   3            4.7           3.2            1.3           0.2  Iris-setosa\n",
       "3   4            4.6           3.1            1.5           0.2  Iris-setosa\n",
       "4   5            5.0           3.6            1.4           0.2  Iris-setosa"
      ]
     },
     "execution_count": 14,
     "metadata": {},
     "output_type": "execute_result"
    }
   ],
   "source": [
    "## Data Import\n",
    "df = pd.read_csv(join('data','iris.csv'))\n",
    "df.head(5)"
   ]
  },
  {
   "cell_type": "code",
   "execution_count": 15,
   "metadata": {},
   "outputs": [
    {
     "data": {
      "text/html": [
       "<div>\n",
       "<style scoped>\n",
       "    .dataframe tbody tr th:only-of-type {\n",
       "        vertical-align: middle;\n",
       "    }\n",
       "\n",
       "    .dataframe tbody tr th {\n",
       "        vertical-align: top;\n",
       "    }\n",
       "\n",
       "    .dataframe thead th {\n",
       "        text-align: right;\n",
       "    }\n",
       "</style>\n",
       "<table border=\"1\" class=\"dataframe\">\n",
       "  <thead>\n",
       "    <tr style=\"text-align: right;\">\n",
       "      <th></th>\n",
       "      <th>SepalLengthCm</th>\n",
       "      <th>SepalWidthCm</th>\n",
       "      <th>PetalLengthCm</th>\n",
       "      <th>PetalWidthCm</th>\n",
       "    </tr>\n",
       "  </thead>\n",
       "  <tbody>\n",
       "    <tr>\n",
       "      <th>0</th>\n",
       "      <td>5.1</td>\n",
       "      <td>3.5</td>\n",
       "      <td>1.4</td>\n",
       "      <td>0.2</td>\n",
       "    </tr>\n",
       "    <tr>\n",
       "      <th>1</th>\n",
       "      <td>4.9</td>\n",
       "      <td>3.0</td>\n",
       "      <td>1.4</td>\n",
       "      <td>0.2</td>\n",
       "    </tr>\n",
       "    <tr>\n",
       "      <th>2</th>\n",
       "      <td>4.7</td>\n",
       "      <td>3.2</td>\n",
       "      <td>1.3</td>\n",
       "      <td>0.2</td>\n",
       "    </tr>\n",
       "    <tr>\n",
       "      <th>3</th>\n",
       "      <td>4.6</td>\n",
       "      <td>3.1</td>\n",
       "      <td>1.5</td>\n",
       "      <td>0.2</td>\n",
       "    </tr>\n",
       "    <tr>\n",
       "      <th>4</th>\n",
       "      <td>5.0</td>\n",
       "      <td>3.6</td>\n",
       "      <td>1.4</td>\n",
       "      <td>0.2</td>\n",
       "    </tr>\n",
       "  </tbody>\n",
       "</table>\n",
       "</div>"
      ],
      "text/plain": [
       "   SepalLengthCm  SepalWidthCm  PetalLengthCm  PetalWidthCm\n",
       "0            5.1           3.5            1.4           0.2\n",
       "1            4.9           3.0            1.4           0.2\n",
       "2            4.7           3.2            1.3           0.2\n",
       "3            4.6           3.1            1.5           0.2\n",
       "4            5.0           3.6            1.4           0.2"
      ]
     },
     "execution_count": 15,
     "metadata": {},
     "output_type": "execute_result"
    }
   ],
   "source": [
    "## Remove columns we do not use in this example\n",
    "del df['Id']\n",
    "del df['Species']\n",
    "df.head(5)"
   ]
  },
  {
   "cell_type": "code",
   "execution_count": 16,
   "metadata": {
    "scrolled": true
   },
   "outputs": [
    {
     "name": "stdout",
     "output_type": "stream",
     "text": [
      "               SepalLengthCm  SepalWidthCm  PetalLengthCm  PetalWidthCm\n",
      "SepalLengthCm       1.000000     -0.109369       0.871754      0.817954\n",
      "SepalWidthCm       -0.109369      1.000000      -0.420516     -0.356544\n",
      "PetalLengthCm       0.871754     -0.420516       1.000000      0.962757\n",
      "PetalWidthCm        0.817954     -0.356544       0.962757      1.000000\n",
      "\n",
      "SepalLengthCm    float64\n",
      "SepalWidthCm     float64\n",
      "PetalLengthCm    float64\n",
      "PetalWidthCm     float64\n",
      "dtype: object\n",
      "\n",
      "(150, 4)\n"
     ]
    }
   ],
   "source": [
    "## Same functions to explore data\n",
    "print(df.corr())\n",
    "print()\n",
    "print(df.dtypes)\n",
    "print()\n",
    "print(df.shape)"
   ]
  },
  {
   "cell_type": "code",
   "execution_count": 17,
   "metadata": {
    "scrolled": true
   },
   "outputs": [
    {
     "name": "stdout",
     "output_type": "stream",
     "text": [
      "150 105 45\n",
      "[ 25  99  90 110   6 130 118 123 144 120 145   3 140  89  92  13 134 142\n",
      "   0  17 119 126  52  75  60  76  29  54  48  87  64 138  41  21 141  23\n",
      " 147 137  16  59 139 146  45 108 105 112 100  37  70  65  32 103  67  20\n",
      "  57  47  28 109 133  72   2  30  31  95  19  24 116 111  42 136  71  22\n",
      " 101  36 107  69 104 106 131  84  77   1  12 149  55  80 128  98  94  33\n",
      " 102  40   7  61  27 148  49  15 115 125 127  10  73 132 124  38 113 117\n",
      "  46  66  44  74  35   5  11   8  34  58  68  93  56 129  81   4  43 143\n",
      "  26  96 121  86  18  91  63  39  82  62  83   9  88  78  85  97  79  53\n",
      " 122 135  14 114  51  50]\n",
      "105 45\n"
     ]
    }
   ],
   "source": [
    "## Train-Valiedation Split\n",
    "## Index control by yourself\n",
    "\n",
    "n_data = df.shape[0]\n",
    "p_trn = 0.7\n",
    "n_trn = round(n_data * p_trn)\n",
    "n_tst = n_data - n_trn\n",
    "print(n_data, n_trn, n_tst)\n",
    "\n",
    "idx_data = pd.Series(range(0,150))\n",
    "idx_data_perm = np.random.permutation(idx_data)\n",
    "print(idx_data_perm)\n",
    "\n",
    "idx_trn = idx_data_perm[0:n_trn]\n",
    "idx_tst = idx_data_perm[n_trn:n_data]\n",
    "print(len(idx_trn),len(idx_tst))\n",
    "\n",
    "# Train:Test = 7:3으로 맞춰주기위해 수동으로 작업을 해줌\n",
    "# 우선 Train Test의 개수를 계산한 후\n",
    "# Random Permutation을 통해\n",
    "# index를 계산해줌"
   ]
  },
  {
   "cell_type": "code",
   "execution_count": 18,
   "metadata": {},
   "outputs": [],
   "source": [
    "# 계산된 index에 맞춰 데이터 분할\n",
    "trnx = df.iloc[idx_trn,0:3]\n",
    "trny = df.iloc[idx_trn,3]\n",
    "tstx = df.iloc[idx_tst,0:3]\n",
    "tsty = df.iloc[idx_tst,3]"
   ]
  },
  {
   "cell_type": "code",
   "execution_count": 19,
   "metadata": {},
   "outputs": [],
   "source": [
    "# 혹은 scikit learn에서 제공해주는 함수를 사용할 수도 있음\n",
    "## )r you can use just this \n",
    "from sklearn.model_selection import train_test_split\n",
    "\n",
    "trnx, tstx, trny, tsty = train_test_split(df.iloc[:,0:3], df.iloc[:,3], test_size=0.3, random_state=123)"
   ]
  },
  {
   "cell_type": "code",
   "execution_count": 20,
   "metadata": {},
   "outputs": [
    {
     "name": "stdout",
     "output_type": "stream",
     "text": [
      "[1.55082809 1.88707017 1.99246785 1.43328554 0.21474604 1.71295854\n",
      " 1.22046352 0.26422937 0.2364671  1.514382   1.66814449 0.30495491\n",
      " 1.3459842  1.96624119 1.97975798 2.13134163 0.05673136 0.12535558\n",
      " 1.60393614 0.15850432 0.16333728 1.74369079 0.54406604 1.74160168\n",
      " 0.41018891 0.27565704 0.16559008 1.81835622 2.53074751 0.27131513\n",
      " 2.00373184 1.60223684 0.35015878 0.2173262  1.05190204 0.95816968\n",
      " 2.31286639 0.41364995 0.19351603 1.18764216 0.98544089 0.05085384\n",
      " 2.16240125 1.74836007 1.84804391]\n"
     ]
    }
   ],
   "source": [
    "# Resgression Learning\n",
    "from sklearn.linear_model import LinearRegression\n",
    "model = LinearRegression()\n",
    "model.fit(X=trnx, y=trny)\n",
    "lr_pred = model.predict(X=tstx)\n",
    "print(lr_pred)"
   ]
  },
  {
   "cell_type": "code",
   "execution_count": 21,
   "metadata": {},
   "outputs": [
    {
     "data": {
      "text/plain": [
       "0.20240684385048952"
      ]
     },
     "execution_count": 21,
     "metadata": {},
     "output_type": "execute_result"
    }
   ],
   "source": [
    "# 성능계산(RMSE)\n",
    "## Calculation of RMSE\n",
    "np.sqrt(np.mean((np.square(lr_pred - tsty))))"
   ]
  },
  {
   "cell_type": "code",
   "execution_count": 22,
   "metadata": {},
   "outputs": [
    {
     "name": "stdout",
     "output_type": "stream",
     "text": [
      "[83.50861963]\n"
     ]
    },
    {
     "data": {
      "image/png": "[encoded data removed]",
      "text/plain": [
       "<Figure size 432x288 with 1 Axes>"
      ]
     },
     "metadata": {
      "needs_background": "light"
     },
     "output_type": "display_data"
    }
   ],
   "source": [
    "# y vs. y_hat 그림을 통해 시각화 \n",
    "# Correlation 계산\n",
    "plt.scatter(x = tsty, y= lr_pred)\n",
    "print(np.correlate(tsty, lr_pred))"
   ]
  },
  {
   "cell_type": "code",
   "execution_count": 23,
   "metadata": {},
   "outputs": [
    {
     "name": "stdout",
     "output_type": "stream",
     "text": [
      "RMSE: 0.20240684385048957\n",
      "R2: 0.9372028808296338\n"
     ]
    }
   ],
   "source": [
    "from sklearn import metrics\n",
    "print('RMSE:', np.sqrt(metrics.mean_squared_error(lr_pred,tsty)))\n",
    "print('R2:',metrics.r2_score(tsty, lr_pred))\n",
    "# Scikit learn 안에도 metrics 패키지 밑에 다양한 미리 구현된 성능 지표가 있음"
   ]
  },
  {
   "cell_type": "code",
   "execution_count": 24,
   "metadata": {
    "scrolled": true
   },
   "outputs": [
    {
     "name": "stdout",
     "output_type": "stream",
     "text": [
      "RMSE: 0.686885179496829\n",
      "RMSE: 0.19777498377950506\n",
      "[-0.26390341  0.27598582  0.5503348 ] [ 0.         -0.          0.07060096] [-0.21302275  0.22775841  0.52289572]\n"
     ]
    }
   ],
   "source": [
    "# Lasso나 Ridge같은 variation도 잘 구현이 되어 있음\n",
    "from sklearn.linear_model import Lasso\n",
    "model_lasso = Lasso()\n",
    "model_lasso.fit(X=trnx, y=trny)\n",
    "lr_pred_lasso = model_lasso.predict(X=tstx)\n",
    "print('RMSE:', np.sqrt(metrics.mean_squared_error(lr_pred_lasso,tsty)))\n",
    "\n",
    "from sklearn.linear_model import Ridge\n",
    "model_ridge = Ridge()\n",
    "model_ridge.fit(X=trnx, y=trny)\n",
    "lr_pred_ridge = model_ridge.predict(X=tstx)\n",
    "print('RMSE:', np.sqrt(metrics.mean_squared_error(lr_pred_ridge,tsty)))\n",
    "\n",
    "print(model.coef_, model_lasso.coef_, model_ridge.coef_)"
   ]
  },
  {
   "cell_type": "code",
   "execution_count": 25,
   "metadata": {},
   "outputs": [
    {
     "name": "stdout",
     "output_type": "stream",
     "text": [
      "[1.30646731 1.34882788 1.35588798 1.24998654 1.06642404 1.29940721\n",
      " 1.27116683 1.05230385 1.05936395 1.27116683 1.3205875  1.05936395\n",
      " 1.23586635 1.34882788 1.39118846 1.37000817 1.05230385 1.03818366\n",
      " 1.29234711 1.05936395 1.05936395 1.3205875  1.09466443 1.30646731\n",
      " 1.07348414 1.08054423 1.06642404 1.30646731 1.43354903 1.05936395\n",
      " 1.39118846 1.3135274  1.07348414 1.05936395 1.24292644 1.19350577\n",
      " 1.41236875 1.08054423 1.05230385 1.23586635 1.20762596 1.04524375\n",
      " 1.37706827 1.32764759 1.3205875 ]\n"
     ]
    }
   ],
   "source": [
    "from sklearn.linear_model import Lasso\n",
    "model_lasso = Lasso()\n",
    "model_lasso.fit(X=trnx, y=trny)\n",
    "lr_pred_lasso = model_lasso.predict(X=tstx)\n",
    "print(lr_pred_lasso)"
   ]
  },
  {
   "cell_type": "code",
   "execution_count": 26,
   "metadata": {},
   "outputs": [
    {
     "data": {
      "text/plain": [
       "0.686885179496829"
      ]
     },
     "execution_count": 26,
     "metadata": {},
     "output_type": "execute_result"
    }
   ],
   "source": [
    "np.sqrt(np.mean((np.square(lr_pred_lasso - tsty))))"
   ]
  },
  {
   "cell_type": "code",
   "execution_count": 27,
   "metadata": {},
   "outputs": [
    {
     "name": "stdout",
     "output_type": "stream",
     "text": [
      "[65.89187782]\n"
     ]
    },
    {
     "data": {
      "image/png": "[encoded data removed]",
      "text/plain": [
       "<Figure size 432x288 with 1 Axes>"
      ]
     },
     "metadata": {
      "needs_background": "light"
     },
     "output_type": "display_data"
    }
   ],
   "source": [
    "# y vs. y_hat 그림을 통해 시각화 \n",
    "# Correlation 계산\n",
    "plt.scatter(x = tsty, y= lr_pred_lasso)\n",
    "print(np.correlate(tsty, lr_pred_lasso))"
   ]
  },
  {
   "cell_type": "code",
   "execution_count": 28,
   "metadata": {},
   "outputs": [
    {
     "name": "stdout",
     "output_type": "stream",
     "text": [
      "RMSE: 0.686885179496829\n",
      "MAE: 0.6107367755831609\n",
      "R2: 0.27680131642563643\n"
     ]
    }
   ],
   "source": [
    "print('RMSE:', np.sqrt(metrics.mean_squared_error(lr_pred_lasso,tsty)))\n",
    "print('MAE:',metrics.mean_absolute_error(tsty, lr_pred_lasso))\n",
    "print('R2:',metrics.r2_score(tsty, lr_pred_lasso))"
   ]
  },
  {
   "cell_type": "code",
   "execution_count": 29,
   "metadata": {},
   "outputs": [
    {
     "name": "stdout",
     "output_type": "stream",
     "text": [
      "[1.57011522 1.89122048 1.98316747 1.41479377 0.22715666 1.69561168\n",
      " 1.26311568 0.25186473 0.23582678 1.5018614  1.68353576 0.29758769\n",
      " 1.3270962  1.95512731 2.01323744 2.11199602 0.08586723 0.12303618\n",
      " 1.59924399 0.17339352 0.17928779 1.74302189 0.52594475 1.72659897\n",
      " 0.39627257 0.29355196 0.18897281 1.78755867 2.50918161 0.26744402\n",
      " 2.03159259 1.61798409 0.34482663 0.22336591 1.09508837 0.96485996\n",
      " 2.30970834 0.40743116 0.19827287 1.19928256 1.00111158 0.07176151\n",
      " 2.14593045 1.75565404 1.82675742]\n"
     ]
    }
   ],
   "source": [
    "from sklearn.linear_model import Ridge\n",
    "model_ridge = Ridge()\n",
    "model_ridge.fit(X=trnx, y=trny)\n",
    "lr_pred_ridge = model_ridge.predict(X=tstx)\n",
    "print(lr_pred_ridge)"
   ]
  },
  {
   "cell_type": "code",
   "execution_count": 30,
   "metadata": {
    "scrolled": true
   },
   "outputs": [
    {
     "data": {
      "text/plain": [
       "0.19777498377950503"
      ]
     },
     "execution_count": 30,
     "metadata": {},
     "output_type": "execute_result"
    }
   ],
   "source": [
    "np.sqrt(np.mean((np.square(lr_pred_ridge - tsty))))"
   ]
  },
  {
   "cell_type": "code",
   "execution_count": 35,
   "metadata": {},
   "outputs": [
    {
     "data": {
      "text/plain": [
       "72     0.070115\n",
       "112   -0.208780\n",
       "132   -0.216833\n",
       "88     0.114794\n",
       "37     0.127157\n",
       "138   -0.104388\n",
       "87    -0.036884\n",
       "42     0.051865\n",
       "8      0.035827\n",
       "90     0.301861\n",
       "141   -0.616464\n",
       "33     0.097588\n",
       "59    -0.072904\n",
       "116    0.155127\n",
       "135   -0.286763\n",
       "104   -0.088004\n",
       "36    -0.114133\n",
       "13     0.023036\n",
       "63     0.199244\n",
       "45    -0.126606\n",
       "28    -0.020712\n",
       "133    0.243022\n",
       "24     0.325945\n",
       "127   -0.073401\n",
       "46     0.196273\n",
       "20     0.093552\n",
       "31    -0.211027\n",
       "121   -0.212441\n",
       "117    0.309182\n",
       "4      0.067444\n",
       "130    0.131593\n",
       "119    0.117984\n",
       "29     0.144827\n",
       "0      0.023366\n",
       "62     0.095088\n",
       "93    -0.035140\n",
       "131    0.309708\n",
       "5      0.007431\n",
       "16    -0.201727\n",
       "82    -0.000717\n",
       "60     0.001112\n",
       "35    -0.128238\n",
       "143   -0.154070\n",
       "145   -0.544346\n",
       "142   -0.073243\n",
       "Name: PetalWidthCm, dtype: float64"
      ]
     },
     "execution_count": 35,
     "metadata": {},
     "output_type": "execute_result"
    }
   ],
   "source": [
    "lr_pred_ridge - tsty"
   ]
  },
  {
   "cell_type": "code",
   "execution_count": 31,
   "metadata": {},
   "outputs": [
    {
     "name": "stdout",
     "output_type": "stream",
     "text": [
      "[83.49885371]\n"
     ]
    },
    {
     "data": {
      "image/png": "[encoded data removed]",
      "text/plain": [
       "<Figure size 432x288 with 1 Axes>"
      ]
     },
     "metadata": {
      "needs_background": "light"
     },
     "output_type": "display_data"
    }
   ],
   "source": [
    "# y vs. y_hat 그림을 통해 시각화 \n",
    "# Correlation 계산\n",
    "plt.scatter(x = tsty, y= lr_pred_ridge)\n",
    "print(np.correlate(tsty, lr_pred_ridge))"
   ]
  },
  {
   "cell_type": "code",
   "execution_count": 32,
   "metadata": {},
   "outputs": [
    {
     "name": "stdout",
     "output_type": "stream",
     "text": [
      "RMSE: 0.19777498377950506\n",
      "MAE: 0.15044356956345198\n",
      "R2: 0.940044082943614\n"
     ]
    }
   ],
   "source": [
    "print('RMSE:', np.sqrt(metrics.mean_squared_error(lr_pred_ridge,tsty)))\n",
    "#예측값과 실제값이 평균적으로 얼마나 차이있는지 00000000\n",
    "print('MAE:',metrics.mean_absolute_error(tsty, lr_pred_ridge))\n",
    "#절댓값\n",
    "print('R2:',metrics.r2_score(tsty, lr_pred_ridge))"
   ]
  },
  {
   "cell_type": "code",
   "execution_count": 33,
   "metadata": {},
   "outputs": [
    {
     "name": "stdout",
     "output_type": "stream",
     "text": [
      "[-0.26390341  0.27598582  0.5503348 ]\n",
      "[ 0.         -0.          0.07060096]\n",
      "[-0.21302275  0.22775841  0.52289572]\n"
     ]
    }
   ],
   "source": [
    "print(model.coef_)\n",
    "print(model_lasso.coef_)\n",
    "print(model_ridge.coef_)\n",
    "#회귀계수"
   ]
  },
  {
   "cell_type": "code",
   "execution_count": 34,
   "metadata": {},
   "outputs": [
    {
     "name": "stdout",
     "output_type": "stream",
     "text": [
      "[83.49885371]\n"
     ]
    },
    {
     "data": {
      "image/png": "[encoded data removed]",
      "text/plain": [
       "<Figure size 432x288 with 1 Axes>"
      ]
     },
     "metadata": {
      "needs_background": "light"
     },
     "output_type": "display_data"
    }
   ],
   "source": [
    "# y vs. y_hat 그림을 통해 시각화 \n",
    "# Correlation 계산\n",
    "plt.scatter(x = tsty, y= lr_pred_ridge,  linewidth=2)\n",
    "print(np.correlate(tsty, lr_pred_ridge))"
   ]
  },
  {
   "cell_type": "code",
   "execution_count": null,
   "metadata": {},
   "outputs": [],
   "source": []
  }
 ],
 "metadata": {
  "kernelspec": {
   "display_name": "Python 3",
   "language": "python",
   "name": "python3"
  },
  "language_info": {
   "codemirror_mode": {
    "name": "ipython",
    "version": 3
   },
   "file_extension": ".py",
   "mimetype": "text/x-python",
   "name": "python",
   "nbconvert_exporter": "python",
   "pygments_lexer": "ipython3",
   "version": "3.7.6"
  }
 },
 "nbformat": 4,
 "nbformat_minor": 4
}
