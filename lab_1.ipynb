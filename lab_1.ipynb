{
 "cells": [
  {
   "cell_type": "code",
   "execution_count": 86,
   "metadata": {},
   "outputs": [],
   "source": [
    "from os.path import join\n",
    "import numpy as np\n",
    "import pandas as pd\n",
    "import matplotlib.pyplot as plt"
   ]
  },
  {
   "cell_type": "markdown",
   "metadata": {},
   "source": [
    "# Data Import with Pandas"
   ]
  },
  {
   "cell_type": "code",
   "execution_count": 87,
   "metadata": {
    "scrolled": true
   },
   "outputs": [
    {
     "data": {
      "text/html": [
       "<div>\n",
       "<style scoped>\n",
       "    .dataframe tbody tr th:only-of-type {\n",
       "        vertical-align: middle;\n",
       "    }\n",
       "\n",
       "    .dataframe tbody tr th {\n",
       "        vertical-align: top;\n",
       "    }\n",
       "\n",
       "    .dataframe thead th {\n",
       "        text-align: right;\n",
       "    }\n",
       "</style>\n",
       "<table border=\"1\" class=\"dataframe\">\n",
       "  <thead>\n",
       "    <tr style=\"text-align: right;\">\n",
       "      <th></th>\n",
       "      <th>datatime</th>\n",
       "      <th>season</th>\n",
       "      <th>hoilday</th>\n",
       "      <th>count</th>\n",
       "    </tr>\n",
       "  </thead>\n",
       "  <tbody>\n",
       "    <tr>\n",
       "      <th>0</th>\n",
       "      <td>2011-01-01 0:00</td>\n",
       "      <td>1</td>\n",
       "      <td>2</td>\n",
       "      <td>5</td>\n",
       "    </tr>\n",
       "    <tr>\n",
       "      <th>1</th>\n",
       "      <td>2011-01-01 1:00</td>\n",
       "      <td>1</td>\n",
       "      <td>2</td>\n",
       "      <td>10</td>\n",
       "    </tr>\n",
       "    <tr>\n",
       "      <th>2</th>\n",
       "      <td>2011-01-01 2:00</td>\n",
       "      <td>1</td>\n",
       "      <td>2</td>\n",
       "      <td>2</td>\n",
       "    </tr>\n",
       "    <tr>\n",
       "      <th>3</th>\n",
       "      <td>2011-01-01 3:00</td>\n",
       "      <td>1</td>\n",
       "      <td>2</td>\n",
       "      <td>4</td>\n",
       "    </tr>\n",
       "    <tr>\n",
       "      <th>4</th>\n",
       "      <td>2011-01-01 4:00</td>\n",
       "      <td>1</td>\n",
       "      <td>2</td>\n",
       "      <td>56</td>\n",
       "    </tr>\n",
       "  </tbody>\n",
       "</table>\n",
       "</div>"
      ],
      "text/plain": [
       "          datatime  season  hoilday  count\n",
       "0  2011-01-01 0:00       1        2      5\n",
       "1  2011-01-01 1:00       1        2     10\n",
       "2  2011-01-01 2:00       1        2      2\n",
       "3  2011-01-01 3:00       1        2      4\n",
       "4  2011-01-01 4:00       1        2     56"
      ]
     },
     "execution_count": 87,
     "metadata": {},
     "output_type": "execute_result"
    }
   ],
   "source": [
    "df=pd.read_csv(join('data','bikeshare.csv'))\n",
    "df.head(5) #table로 보여주어 직관적이다."
   ]
  },
  {
   "cell_type": "code",
   "execution_count": 88,
   "metadata": {},
   "outputs": [
    {
     "data": {
      "text/plain": [
       "(8, 4)"
      ]
     },
     "execution_count": 88,
     "metadata": {},
     "output_type": "execute_result"
    }
   ],
   "source": [
    "df.shape #data의 모양 확인"
   ]
  },
  {
   "cell_type": "code",
   "execution_count": 89,
   "metadata": {},
   "outputs": [
    {
     "name": "stdout",
     "output_type": "stream",
     "text": [
      "8\n",
      "4\n"
     ]
    }
   ],
   "source": [
    "print(df.shape[0]) #row\n",
    "print(df.shape[1]) #column"
   ]
  },
  {
   "cell_type": "code",
   "execution_count": 90,
   "metadata": {},
   "outputs": [
    {
     "name": "stdout",
     "output_type": "stream",
     "text": [
      "0     5\n",
      "1    10\n",
      "2     2\n",
      "3     4\n",
      "4    56\n",
      "5    23\n",
      "6    22\n",
      "7     1\n",
      "Name: count, dtype: int64\n"
     ]
    }
   ],
   "source": [
    "print(df['count']) #column명을 이용한 data slicing 가능"
   ]
  },
  {
   "cell_type": "code",
   "execution_count": 91,
   "metadata": {},
   "outputs": [
    {
     "name": "stdout",
     "output_type": "stream",
     "text": [
      "0     5\n",
      "1    10\n",
      "2     2\n",
      "3     4\n",
      "4    56\n",
      "Name: count, dtype: int64\n",
      "0     5\n",
      "1    10\n",
      "2     2\n",
      "3     4\n",
      "4    56\n",
      "Name: count, dtype: int64\n"
     ]
    }
   ],
   "source": [
    "print(df['count'][0:5])  #index 0~4까지 가져옴\n",
    "temp=df['count']\n",
    "print(temp[0:5])"
   ]
  },
  {
   "cell_type": "code",
   "execution_count": 92,
   "metadata": {},
   "outputs": [
    {
     "name": "stdout",
     "output_type": "stream",
     "text": [
      "          datatime  season\n",
      "0  2011-01-01 0:00       1\n",
      "1  2011-01-01 1:00       1\n",
      "2  2011-01-01 2:00       1\n",
      "3  2011-01-01 3:00       1\n"
     ]
    }
   ],
   "source": [
    "print(df.iloc[0:4, 0:2]) #index를 이용한 data slicing // df.iloc[r,c]"
   ]
  },
  {
   "cell_type": "code",
   "execution_count": 93,
   "metadata": {},
   "outputs": [
    {
     "name": "stdout",
     "output_type": "stream",
     "text": [
      "0     5\n",
      "1    10\n",
      "2     2\n",
      "3     4\n",
      "Name: count, dtype: int64\n"
     ]
    }
   ],
   "source": [
    "temp=df.iloc[:,3] # [:,3]에서 :은 전체, 3번 column\n",
    "print(temp[0:4])"
   ]
  },
  {
   "cell_type": "code",
   "execution_count": 94,
   "metadata": {},
   "outputs": [
    {
     "name": "stdout",
     "output_type": "stream",
     "text": [
      "<class 'pandas.core.series.Series'>\n"
     ]
    }
   ],
   "source": [
    "print(type(temp)) #data type확인 가능"
   ]
  },
  {
   "cell_type": "code",
   "execution_count": 95,
   "metadata": {},
   "outputs": [
    {
     "name": "stdout",
     "output_type": "stream",
     "text": [
      "datatime    object\n",
      "season       int64\n",
      "hoilday      int64\n",
      "count        int64\n",
      "dtype: object\n"
     ]
    }
   ],
   "source": [
    "print(df.dtypes) #전체 data frame을 확인하려면 dtypes"
   ]
  },
  {
   "cell_type": "code",
   "execution_count": 96,
   "metadata": {},
   "outputs": [
    {
     "name": "stdout",
     "output_type": "stream",
     "text": [
      "int64\n"
     ]
    }
   ],
   "source": [
    "print(temp.dtype) #하나의 type을 확인하려면 dtype"
   ]
  },
  {
   "cell_type": "code",
   "execution_count": 97,
   "metadata": {},
   "outputs": [
    {
     "data": {
      "text/html": [
       "<div>\n",
       "<style scoped>\n",
       "    .dataframe tbody tr th:only-of-type {\n",
       "        vertical-align: middle;\n",
       "    }\n",
       "\n",
       "    .dataframe tbody tr th {\n",
       "        vertical-align: top;\n",
       "    }\n",
       "\n",
       "    .dataframe thead th {\n",
       "        text-align: right;\n",
       "    }\n",
       "</style>\n",
       "<table border=\"1\" class=\"dataframe\">\n",
       "  <thead>\n",
       "    <tr style=\"text-align: right;\">\n",
       "      <th></th>\n",
       "      <th>datatime</th>\n",
       "      <th>biketype</th>\n",
       "    </tr>\n",
       "  </thead>\n",
       "  <tbody>\n",
       "    <tr>\n",
       "      <th>0</th>\n",
       "      <td>2011-01-01 0:00</td>\n",
       "      <td>1</td>\n",
       "    </tr>\n",
       "    <tr>\n",
       "      <th>1</th>\n",
       "      <td>2011-01-01 1:00</td>\n",
       "      <td>2</td>\n",
       "    </tr>\n",
       "    <tr>\n",
       "      <th>2</th>\n",
       "      <td>2011-01-01 2:00</td>\n",
       "      <td>3</td>\n",
       "    </tr>\n",
       "  </tbody>\n",
       "</table>\n",
       "</div>"
      ],
      "text/plain": [
       "          datatime  biketype\n",
       "0  2011-01-01 0:00         1\n",
       "1  2011-01-01 1:00         2\n",
       "2  2011-01-01 2:00         3"
      ]
     },
     "execution_count": 97,
     "metadata": {},
     "output_type": "execute_result"
    }
   ],
   "source": [
    "new_data = pd.DataFrame({'datatime':['2011-01-01 0:00', '2011-01-01 1:00', '2011-01-01 2:00'], 'biketype':[1, 2, 3]})\n",
    "new_data.head()"
   ]
  },
  {
   "cell_type": "code",
   "execution_count": 98,
   "metadata": {},
   "outputs": [
    {
     "data": {
      "text/html": [
       "<div>\n",
       "<style scoped>\n",
       "    .dataframe tbody tr th:only-of-type {\n",
       "        vertical-align: middle;\n",
       "    }\n",
       "\n",
       "    .dataframe tbody tr th {\n",
       "        vertical-align: top;\n",
       "    }\n",
       "\n",
       "    .dataframe thead th {\n",
       "        text-align: right;\n",
       "    }\n",
       "</style>\n",
       "<table border=\"1\" class=\"dataframe\">\n",
       "  <thead>\n",
       "    <tr style=\"text-align: right;\">\n",
       "      <th></th>\n",
       "      <th>datatime</th>\n",
       "      <th>season</th>\n",
       "      <th>hoilday</th>\n",
       "      <th>count</th>\n",
       "      <th>biketype</th>\n",
       "    </tr>\n",
       "  </thead>\n",
       "  <tbody>\n",
       "    <tr>\n",
       "      <th>0</th>\n",
       "      <td>2011-01-01 0:00</td>\n",
       "      <td>1</td>\n",
       "      <td>2</td>\n",
       "      <td>5</td>\n",
       "      <td>1</td>\n",
       "    </tr>\n",
       "    <tr>\n",
       "      <th>1</th>\n",
       "      <td>2011-01-01 1:00</td>\n",
       "      <td>1</td>\n",
       "      <td>2</td>\n",
       "      <td>10</td>\n",
       "      <td>2</td>\n",
       "    </tr>\n",
       "    <tr>\n",
       "      <th>2</th>\n",
       "      <td>2011-01-01 2:00</td>\n",
       "      <td>1</td>\n",
       "      <td>2</td>\n",
       "      <td>2</td>\n",
       "      <td>3</td>\n",
       "    </tr>\n",
       "  </tbody>\n",
       "</table>\n",
       "</div>"
      ],
      "text/plain": [
       "          datatime  season  hoilday  count  biketype\n",
       "0  2011-01-01 0:00       1        2      5         1\n",
       "1  2011-01-01 1:00       1        2     10         2\n",
       "2  2011-01-01 2:00       1        2      2         3"
      ]
     },
     "execution_count": 98,
     "metadata": {},
     "output_type": "execute_result"
    }
   ],
   "source": [
    "join_data=pd.merge(df, new_data, how='inner')\n",
    "join_data.head()"
   ]
  },
  {
   "cell_type": "code",
   "execution_count": 99,
   "metadata": {},
   "outputs": [
    {
     "name": "stdout",
     "output_type": "stream",
     "text": [
      "[['2011-01-01 0:00' 1 2 5]\n",
      " ['2011-01-01 1:00' 1 2 10]\n",
      " ['2011-01-01 2:00' 1 2 2]\n",
      " ['2011-01-01 3:00' 1 2 4]\n",
      " ['2011-01-01 4:00' 1 2 56]\n",
      " ['2011-01-01 5:00' 1 2 23]\n",
      " ['2011-01-01 6:00' 1 2 22]\n",
      " ['2011-01-01 7:00' 1 2 1]]\n"
     ]
    }
   ],
   "source": [
    "np_data=np.array(df)\n",
    "print(np_data)"
   ]
  },
  {
   "cell_type": "code",
   "execution_count": 100,
   "metadata": {},
   "outputs": [
    {
     "data": {
      "text/plain": [
       "(8, 4)"
      ]
     },
     "execution_count": 100,
     "metadata": {},
     "output_type": "execute_result"
    }
   ],
   "source": [
    "np_data.shape"
   ]
  },
  {
   "cell_type": "code",
   "execution_count": 101,
   "metadata": {},
   "outputs": [
    {
     "name": "stdout",
     "output_type": "stream",
     "text": [
      "[1 1 1 1 1 1 1 1]\n",
      "5\n",
      "[['2011-01-01 0:00' 1]\n",
      " ['2011-01-01 1:00' 1]]\n"
     ]
    }
   ],
   "source": [
    "print(np_data[:,1]) #numpy는 index를 이용한 slicing만 가능하다. cloumn명으로 접근안됨\n",
    "print(np_data[0,3])\n",
    "print(np_data[0:2,0:2])"
   ]
  },
  {
   "cell_type": "code",
   "execution_count": 102,
   "metadata": {},
   "outputs": [
    {
     "name": "stdout",
     "output_type": "stream",
     "text": [
      "[5 10 2]\n"
     ]
    }
   ],
   "source": [
    "temp = np_data[:,3]\n",
    "print(temp[0:3])"
   ]
  },
  {
   "cell_type": "markdown",
   "metadata": {},
   "source": [
    "# Vector Calculation with numpy"
   ]
  },
  {
   "cell_type": "markdown",
   "metadata": {},
   "source": [
    "numpy의 장점은 calculation이 쉽다."
   ]
  },
  {
   "cell_type": "code",
   "execution_count": 103,
   "metadata": {},
   "outputs": [
    {
     "name": "stdout",
     "output_type": "stream",
     "text": [
      "[5 10 2 4 56 23]\n",
      "[2 4 56 23 22 1]\n"
     ]
    }
   ],
   "source": [
    "tmp1 = np_data[0:6,3] #원소가 6개 있는 6차원 벡터로 만들었다.\n",
    "tmp2 = np_data[2:8,3]\n",
    "print(tmp1)\n",
    "print(tmp2)"
   ]
  },
  {
   "cell_type": "code",
   "execution_count": 104,
   "metadata": {},
   "outputs": [
    {
     "name": "stdout",
     "output_type": "stream",
     "text": [
      "[5 10 2 4 56 23]\n",
      "[3 6 -54 -19 34 22]\n",
      "[2.5 2.5 0.03571428571428571 0.17391304347826086 2.5454545454545454 23.0]\n",
      "[10 40 112 92 1232 23]\n",
      "1509\n"
     ]
    }
   ],
   "source": [
    "# vector연산은 기본적으로 cell by cell연산이다.\n",
    "tmp3=tmp1+tmp2\n",
    "tmp4=tmp1-tmp2\n",
    "tmp5=tmp1/tmp2\n",
    "tmp6=tmp1*tmp2\n",
    "tmp7=np.dot(tmp1,tmp2)\n",
    "print(tmp1)\n",
    "print(tmp4)\n",
    "print(tmp5)\n",
    "print(tmp6)\n",
    "print(tmp7)"
   ]
  },
  {
   "cell_type": "code",
   "execution_count": 105,
   "metadata": {},
   "outputs": [
    {
     "name": "stdout",
     "output_type": "stream",
     "text": [
      "[[2 5]\n",
      " [2 10]\n",
      " [2 2]\n",
      " [2 4]\n",
      " [2 56]]\n",
      "[[2 4]\n",
      " [2 56]\n",
      " [2 23]\n",
      " [2 22]\n",
      " [2 1]]\n"
     ]
    }
   ],
   "source": [
    "# matrix연산도 비슷하다.\n",
    "tmp1=np_data[0:5,2:4]\n",
    "tmp2=np_data[3:8,2:4]\n",
    "print(tmp1)\n",
    "print(tmp2)"
   ]
  },
  {
   "cell_type": "code",
   "execution_count": 106,
   "metadata": {},
   "outputs": [
    {
     "name": "stdout",
     "output_type": "stream",
     "text": [
      "[[2 5]\n",
      " [2 10]\n",
      " [2 2]\n",
      " [2 4]\n",
      " [2 56]]\n",
      "[[0 1]\n",
      " [0 -46]\n",
      " [0 -21]\n",
      " [0 -18]\n",
      " [0 55]]\n",
      "[[1.0 1.25]\n",
      " [1.0 0.17857142857142858]\n",
      " [1.0 0.08695652173913043]\n",
      " [1.0 0.18181818181818182]\n",
      " [1.0 56.0]]\n",
      "[[4 20]\n",
      " [4 560]\n",
      " [4 46]\n",
      " [4 88]\n",
      " [4 56]]\n",
      "[[20 212]\n",
      " [154 770]]\n"
     ]
    }
   ],
   "source": [
    "tmp3=tmp1+tmp2\n",
    "tmp4=tmp1-tmp2\n",
    "tmp5=tmp1/tmp2\n",
    "tmp6=tmp1*tmp2\n",
    "tmp7=np.dot(np.transpose(tmp1),tmp2)\n",
    "print(tmp1)\n",
    "print(tmp4)\n",
    "print(tmp5)\n",
    "print(tmp6)\n",
    "print(tmp7)"
   ]
  },
  {
   "cell_type": "markdown",
   "metadata": {},
   "source": [
    "# Frequently Used Functions in Numpy\n",
    "- numpy의 유용한 수학함수들이다.\n",
    "- 실제로 데이터를 만지다보면 자주 사용되는 함수들이다."
   ]
  },
  {
   "cell_type": "code",
   "execution_count": 110,
   "metadata": {},
   "outputs": [
    {
     "name": "stdout",
     "output_type": "stream",
     "text": [
      "[[0. 0.]\n",
      " [0. 0.]]\n",
      "[[1. 1.]\n",
      " [1. 1.]]\n",
      "[[-1. -1.]\n",
      " [-1. -1.]]\n"
     ]
    }
   ],
   "source": [
    "## Zeros\n",
    "a=np.zeros((2,2))\n",
    "print(a)\n",
    "## Ones\n",
    "b=np.ones((2,2))\n",
    "print(b)\n",
    "c= -1*np.ones((2,2))\n",
    "print(c)"
   ]
  },
  {
   "cell_type": "code",
   "execution_count": 113,
   "metadata": {},
   "outputs": [
    {
     "name": "stdout",
     "output_type": "stream",
     "text": [
      "[1.1 2.2 3.3 4.4 5.5]\n",
      "[1.1 2.2 3.3 4.4 5.5]\n",
      "[1.04880885 1.4832397  1.81659021 2.0976177  2.34520788]\n",
      "[0.09531018 0.78845736 1.19392247 1.48160454 1.70474809]\n",
      "[1. 2. 3. 4. 6.]\n",
      "[1. 2. 3. 4. 5.]\n",
      "[2. 3. 4. 5. 6.]\n",
      "1.1\n",
      "5.5\n",
      "3.3\n",
      "1.5556349186104046\n",
      "3.3\n"
     ]
    }
   ],
   "source": [
    "tmp1= np.array([1.1,2.2,3.3,4.4,5.5])\n",
    "print(tmp1)\n",
    "print(np.abs(tmp1))\n",
    "print(np.sqrt(tmp1))\n",
    "print(np.log(tmp1))\n",
    "print(np.rint(tmp1)) #반올림\n",
    "print(np.floor(tmp1)) #내림\n",
    "print(np.ceil(tmp1)) #올림\n",
    "print(np.min(tmp1))\n",
    "print(np.max(tmp1))\n",
    "print(np.mean(tmp1))\n",
    "print(np.std(tmp1)) #표준편차\n",
    "print(np.median(tmp1))\n"
   ]
  },
  {
   "cell_type": "code",
   "execution_count": 116,
   "metadata": {},
   "outputs": [
    {
     "name": "stdout",
     "output_type": "stream",
     "text": [
      "[1.1 2.2 3.3 4.4 5.5]\n",
      "[[1.1]\n",
      " [2.2]\n",
      " [3.3]\n",
      " [4.4]\n",
      " [5.5]]\n"
     ]
    }
   ],
   "source": [
    "# row vector를 column vector로 변환\n",
    "tmp1_prime = tmp1.reshape(-1,1)\n",
    "print(tmp1)\n",
    "print(tmp1_prime)"
   ]
  },
  {
   "cell_type": "markdown",
   "metadata": {},
   "source": [
    "# Random Functions"
   ]
  },
  {
   "cell_type": "code",
   "execution_count": 119,
   "metadata": {},
   "outputs": [
    {
     "name": "stdout",
     "output_type": "stream",
     "text": [
      "[1.1 5.5 3.3 4.4 2.2]\n"
     ]
    }
   ],
   "source": [
    "a= np.random.permutation(tmp1) #데이터 섞어주는 함수\n",
    "print(a)"
   ]
  },
  {
   "cell_type": "code",
   "execution_count": 120,
   "metadata": {},
   "outputs": [
    {
     "name": "stdout",
     "output_type": "stream",
     "text": [
      "[[-0.11113203 -0.16055092]\n",
      " [ 1.12125656  2.12983484]\n",
      " [ 0.19747171 -1.2818058 ]\n",
      " [ 1.23850068 -0.43732839]\n",
      " [ 0.11707928  1.31089054]\n",
      " [ 1.65560751  1.44384011]\n",
      " [ 1.82449787  1.38262091]\n",
      " [ 1.70636856  1.73190912]\n",
      " [ 2.76202455  1.57861046]\n",
      " [ 2.26759513  1.19171485]]\n"
     ]
    }
   ],
   "source": [
    "#데이터를 원하는 분포에 맞춰서 random하게 생성해줄수도 있다.\n",
    "a=np.random.normal(loc=1, scale=1, size=(10,2)) #loc-> 정규분포의 평균, scale-> 표준편차\n",
    "print(a)"
   ]
  }
 ],
 "metadata": {
  "kernelspec": {
   "display_name": "Python 3",
   "language": "python",
   "name": "python3"
  },
  "language_info": {
   "codemirror_mode": {
    "name": "ipython",
    "version": 3
   },
   "file_extension": ".py",
   "mimetype": "text/x-python",
   "name": "python",
   "nbconvert_exporter": "python",
   "pygments_lexer": "ipython3",
   "version": "3.7.6"
  }
 },
 "nbformat": 4,
 "nbformat_minor": 4
}
